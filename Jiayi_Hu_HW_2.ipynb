{
 "cells": [
  {
   "cell_type": "markdown",
   "id": "4dc61a33",
   "metadata": {
    "id": "4dc61a33"
   },
   "source": [
    "**Homework 2**"
   ]
  },
  {
   "cell_type": "markdown",
   "id": "9346fc71",
   "metadata": {
    "id": "9346fc71"
   },
   "source": [
    "**Part 1: Regression on California Test Scores**\n",
    "\n",
    "\n"
   ]
  },
  {
   "cell_type": "markdown",
   "id": "236a2185",
   "metadata": {
    "id": "236a2185"
   },
   "source": [
    "**1. Find the url for the California Test Score Data Set from the following website:**\n",
    "\n",
    "https://vincentarelbundock.github.io/Rdatasets/datasets.html\n",
    "\n",
    "Read through the \"DOC\" file to understand the variables in the dataset, then use the following url to import the data.  \n",
    "\n",
    "https://vincentarelbundock.github.io/Rdatasets/csv/Ecdat/Caschool.csv\n",
    "\n",
    "The target data (i.e. the dependent variable) is named \"testscr\".  You can use all  variables in the data except for \"readscr\" and \"mathscr\" in the following analysis.  (These two variables were used to generate the dependent variable).**\n"
   ]
  },
  {
   "cell_type": "markdown",
   "id": "3c741738",
   "metadata": {
    "id": "3c741738"
   },
   "source": [
    "import warnings\n",
    "\n",
    "warnings.simplefilter(action='ignore', category=FutureWarning)\n",
    "\n",
    "from sklearn.exceptions import DataConversionWarning\n",
    "\n",
    "warnings.filterwarnings(action='ignore', category=DataConversionWarning)\n",
    "\n",
    "import pandas as pd\n",
    "\n",
    "import numpy as np\n",
    "\n",
    "df = pd.read_csv(\"https://vincentarelbundock.github.io/Rdatasets/csv/Ecdat/Caschool.csv\")\n",
    "\n",
    "df.head()"
   ]
  },
  {
   "cell_type": "code",
   "execution_count": 152,
   "id": "d7a227d7",
   "metadata": {
    "id": "d7a227d7"
   },
   "outputs": [],
   "source": [
    "import warnings\n",
    "warnings.simplefilter(action='ignore', category=FutureWarning)\n",
    "from sklearn.exceptions import DataConversionWarning\n",
    "warnings.filterwarnings(action='ignore', category=DataConversionWarning)\n",
    "import pandas as pd\n",
    "import numpy as np"
   ]
  },
  {
   "cell_type": "code",
   "execution_count": 153,
   "id": "d795949d",
   "metadata": {
    "colab": {
     "base_uri": "https://localhost:8080/",
     "height": 444
    },
    "id": "d795949d",
    "outputId": "5371c934-f1e1-4ef1-fffd-46154eab006f"
   },
   "outputs": [
    {
     "data": {
      "text/html": [
       "<div>\n",
       "<style scoped>\n",
       "    .dataframe tbody tr th:only-of-type {\n",
       "        vertical-align: middle;\n",
       "    }\n",
       "\n",
       "    .dataframe tbody tr th {\n",
       "        vertical-align: top;\n",
       "    }\n",
       "\n",
       "    .dataframe thead th {\n",
       "        text-align: right;\n",
       "    }\n",
       "</style>\n",
       "<table border=\"1\" class=\"dataframe\">\n",
       "  <thead>\n",
       "    <tr style=\"text-align: right;\">\n",
       "      <th></th>\n",
       "      <th>Unnamed: 0</th>\n",
       "      <th>distcod</th>\n",
       "      <th>county</th>\n",
       "      <th>district</th>\n",
       "      <th>grspan</th>\n",
       "      <th>enrltot</th>\n",
       "      <th>teachers</th>\n",
       "      <th>calwpct</th>\n",
       "      <th>mealpct</th>\n",
       "      <th>computer</th>\n",
       "      <th>testscr</th>\n",
       "      <th>compstu</th>\n",
       "      <th>expnstu</th>\n",
       "      <th>str</th>\n",
       "      <th>avginc</th>\n",
       "      <th>elpct</th>\n",
       "      <th>readscr</th>\n",
       "      <th>mathscr</th>\n",
       "    </tr>\n",
       "  </thead>\n",
       "  <tbody>\n",
       "    <tr>\n",
       "      <th>0</th>\n",
       "      <td>1</td>\n",
       "      <td>75119</td>\n",
       "      <td>Alameda</td>\n",
       "      <td>Sunol Glen Unified</td>\n",
       "      <td>KK-08</td>\n",
       "      <td>195</td>\n",
       "      <td>10.900000</td>\n",
       "      <td>0.510200</td>\n",
       "      <td>2.040800</td>\n",
       "      <td>67</td>\n",
       "      <td>690.799988</td>\n",
       "      <td>0.343590</td>\n",
       "      <td>6384.911133</td>\n",
       "      <td>17.889910</td>\n",
       "      <td>22.690001</td>\n",
       "      <td>0.000000</td>\n",
       "      <td>691.599976</td>\n",
       "      <td>690.000000</td>\n",
       "    </tr>\n",
       "    <tr>\n",
       "      <th>1</th>\n",
       "      <td>2</td>\n",
       "      <td>61499</td>\n",
       "      <td>Butte</td>\n",
       "      <td>Manzanita Elementary</td>\n",
       "      <td>KK-08</td>\n",
       "      <td>240</td>\n",
       "      <td>11.150000</td>\n",
       "      <td>15.416700</td>\n",
       "      <td>47.916698</td>\n",
       "      <td>101</td>\n",
       "      <td>661.200012</td>\n",
       "      <td>0.420833</td>\n",
       "      <td>5099.380859</td>\n",
       "      <td>21.524664</td>\n",
       "      <td>9.824000</td>\n",
       "      <td>4.583333</td>\n",
       "      <td>660.500000</td>\n",
       "      <td>661.900024</td>\n",
       "    </tr>\n",
       "    <tr>\n",
       "      <th>2</th>\n",
       "      <td>3</td>\n",
       "      <td>61549</td>\n",
       "      <td>Butte</td>\n",
       "      <td>Thermalito Union Elementary</td>\n",
       "      <td>KK-08</td>\n",
       "      <td>1550</td>\n",
       "      <td>82.900002</td>\n",
       "      <td>55.032299</td>\n",
       "      <td>76.322601</td>\n",
       "      <td>169</td>\n",
       "      <td>643.599976</td>\n",
       "      <td>0.109032</td>\n",
       "      <td>5501.954590</td>\n",
       "      <td>18.697226</td>\n",
       "      <td>8.978000</td>\n",
       "      <td>30.000002</td>\n",
       "      <td>636.299988</td>\n",
       "      <td>650.900024</td>\n",
       "    </tr>\n",
       "    <tr>\n",
       "      <th>3</th>\n",
       "      <td>4</td>\n",
       "      <td>61457</td>\n",
       "      <td>Butte</td>\n",
       "      <td>Golden Feather Union Elementary</td>\n",
       "      <td>KK-08</td>\n",
       "      <td>243</td>\n",
       "      <td>14.000000</td>\n",
       "      <td>36.475399</td>\n",
       "      <td>77.049202</td>\n",
       "      <td>85</td>\n",
       "      <td>647.700012</td>\n",
       "      <td>0.349794</td>\n",
       "      <td>7101.831055</td>\n",
       "      <td>17.357143</td>\n",
       "      <td>8.978000</td>\n",
       "      <td>0.000000</td>\n",
       "      <td>651.900024</td>\n",
       "      <td>643.500000</td>\n",
       "    </tr>\n",
       "    <tr>\n",
       "      <th>4</th>\n",
       "      <td>5</td>\n",
       "      <td>61523</td>\n",
       "      <td>Butte</td>\n",
       "      <td>Palermo Union Elementary</td>\n",
       "      <td>KK-08</td>\n",
       "      <td>1335</td>\n",
       "      <td>71.500000</td>\n",
       "      <td>33.108601</td>\n",
       "      <td>78.427002</td>\n",
       "      <td>171</td>\n",
       "      <td>640.849976</td>\n",
       "      <td>0.128090</td>\n",
       "      <td>5235.987793</td>\n",
       "      <td>18.671329</td>\n",
       "      <td>9.080333</td>\n",
       "      <td>13.857677</td>\n",
       "      <td>641.799988</td>\n",
       "      <td>639.900024</td>\n",
       "    </tr>\n",
       "  </tbody>\n",
       "</table>\n",
       "</div>"
      ],
      "text/plain": [
       "   Unnamed: 0  distcod   county                         district grspan  \\\n",
       "0           1    75119  Alameda               Sunol Glen Unified  KK-08   \n",
       "1           2    61499    Butte             Manzanita Elementary  KK-08   \n",
       "2           3    61549    Butte      Thermalito Union Elementary  KK-08   \n",
       "3           4    61457    Butte  Golden Feather Union Elementary  KK-08   \n",
       "4           5    61523    Butte         Palermo Union Elementary  KK-08   \n",
       "\n",
       "   enrltot   teachers    calwpct    mealpct  computer     testscr   compstu  \\\n",
       "0      195  10.900000   0.510200   2.040800        67  690.799988  0.343590   \n",
       "1      240  11.150000  15.416700  47.916698       101  661.200012  0.420833   \n",
       "2     1550  82.900002  55.032299  76.322601       169  643.599976  0.109032   \n",
       "3      243  14.000000  36.475399  77.049202        85  647.700012  0.349794   \n",
       "4     1335  71.500000  33.108601  78.427002       171  640.849976  0.128090   \n",
       "\n",
       "       expnstu        str     avginc      elpct     readscr     mathscr  \n",
       "0  6384.911133  17.889910  22.690001   0.000000  691.599976  690.000000  \n",
       "1  5099.380859  21.524664   9.824000   4.583333  660.500000  661.900024  \n",
       "2  5501.954590  18.697226   8.978000  30.000002  636.299988  650.900024  \n",
       "3  7101.831055  17.357143   8.978000   0.000000  651.900024  643.500000  \n",
       "4  5235.987793  18.671329   9.080333  13.857677  641.799988  639.900024  "
      ]
     },
     "execution_count": 153,
     "metadata": {},
     "output_type": "execute_result"
    }
   ],
   "source": [
    "df = pd.read_csv(\"https://vincentarelbundock.github.io/Rdatasets/csv/Ecdat/Caschool.csv\")\n",
    "df.head()"
   ]
  },
  {
   "cell_type": "markdown",
   "id": "0c382a36",
   "metadata": {
    "id": "0c382a36"
   },
   "source": [
    "**1.1 Visualize the univariate distribution of the target feature and each of the three continuous explanatory variables that you think are likely to have a relationship with the target feature.**\n"
   ]
  },
  {
   "cell_type": "markdown",
   "id": "fd51c4cf",
   "metadata": {
    "id": "fd51c4cf"
   },
   "source": [
    "df ['testscr'].hist()\n",
    "\n",
    "df['expnstu'].hist()\n",
    "\n",
    "df['str'].hist()\n",
    "\n",
    "df['avginc'].hist()\n",
    "\n"
   ]
  },
  {
   "cell_type": "code",
   "execution_count": 154,
   "id": "1dc98e1e",
   "metadata": {
    "colab": {
     "base_uri": "https://localhost:8080/",
     "height": 283
    },
    "id": "1dc98e1e",
    "outputId": "f816f596-43d9-4d9b-95c0-d6927c081b0d"
   },
   "outputs": [
    {
     "data": {
      "text/plain": [
       "<AxesSubplot:>"
      ]
     },
     "execution_count": 154,
     "metadata": {},
     "output_type": "execute_result"
    },
    {
     "data": {
      "image/png": "[encoded data removed]",
      "text/plain": [
       "<Figure size 432x288 with 1 Axes>"
      ]
     },
     "metadata": {
      "needs_background": "light"
     },
     "output_type": "display_data"
    }
   ],
   "source": [
    "df ['testscr'].hist()"
   ]
  },
  {
   "cell_type": "code",
   "execution_count": 155,
   "id": "1c092562",
   "metadata": {
    "colab": {
     "base_uri": "https://localhost:8080/",
     "height": 283
    },
    "id": "1c092562",
    "outputId": "e7e1c2ba-b86b-4469-f86d-150c5270ba88"
   },
   "outputs": [
    {
     "data": {
      "text/plain": [
       "<AxesSubplot:>"
      ]
     },
     "execution_count": 155,
     "metadata": {},
     "output_type": "execute_result"
    },
    {
     "data": {
      "image/png": "[encoded data removed]",
      "text/plain": [
       "<Figure size 432x288 with 1 Axes>"
      ]
     },
     "metadata": {
      "needs_background": "light"
     },
     "output_type": "display_data"
    }
   ],
   "source": [
    "df['expnstu'].hist()"
   ]
  },
  {
   "cell_type": "code",
   "execution_count": 156,
   "id": "6d17b456",
   "metadata": {
    "colab": {
     "base_uri": "https://localhost:8080/",
     "height": 283
    },
    "id": "6d17b456",
    "outputId": "b7327c03-cb17-46fc-a0ba-746256bb065e"
   },
   "outputs": [
    {
     "data": {
      "text/plain": [
       "<AxesSubplot:>"
      ]
     },
     "execution_count": 156,
     "metadata": {},
     "output_type": "execute_result"
    },
    {
     "data": {
      "image/png": "[encoded data removed]",
      "text/plain": [
       "<Figure size 432x288 with 1 Axes>"
      ]
     },
     "metadata": {
      "needs_background": "light"
     },
     "output_type": "display_data"
    }
   ],
   "source": [
    "df['str'].hist()"
   ]
  },
  {
   "cell_type": "code",
   "execution_count": 157,
   "id": "dbd3213f",
   "metadata": {
    "colab": {
     "base_uri": "https://localhost:8080/",
     "height": 283
    },
    "id": "dbd3213f",
    "outputId": "c4c839a8-0a5b-4d07-a429-7b911ecc6f8e"
   },
   "outputs": [
    {
     "data": {
      "text/plain": [
       "<AxesSubplot:>"
      ]
     },
     "execution_count": 157,
     "metadata": {},
     "output_type": "execute_result"
    },
    {
     "data": {
      "image/png": "[encoded data removed]",
      "text/plain": [
       "<Figure size 432x288 with 1 Axes>"
      ]
     },
     "metadata": {
      "needs_background": "light"
     },
     "output_type": "display_data"
    }
   ],
   "source": [
    "df['avginc'].hist()"
   ]
  },
  {
   "cell_type": "markdown",
   "id": "dba2d210",
   "metadata": {
    "id": "dba2d210"
   },
   "source": [
    "**1.2 Visualize the dependency of the target on each feature from 1.1.**"
   ]
  },
  {
   "cell_type": "markdown",
   "id": "602e9a49",
   "metadata": {
    "id": "602e9a49"
   },
   "source": [
    "import seaborn as sns\n",
    "\n",
    "x = sns.regplot(x=\"testscr\" , y=\"expnstu\", data=df, color = 'y')\n",
    "\n",
    "x = sns.regplot(x=\"testscr\", y=\"str\", data=df, color='r')\n",
    "\n",
    "x = sns.regplot(x=\"testscr\", y=\"avginc\", data=df)\n",
    "\n"
   ]
  },
  {
   "cell_type": "code",
   "execution_count": 158,
   "id": "adcf7e15",
   "metadata": {
    "id": "adcf7e15"
   },
   "outputs": [],
   "source": [
    "import seaborn as sns"
   ]
  },
  {
   "cell_type": "code",
   "execution_count": 159,
   "id": "71d74571",
   "metadata": {
    "colab": {
     "base_uri": "https://localhost:8080/",
     "height": 279
    },
    "id": "71d74571",
    "outputId": "b2823d13-d962-436a-fe15-9320a55c8bb2"
   },
   "outputs": [
    {
     "data": {
      "image/png": "[encoded data removed]",
      "text/plain": [
       "<Figure size 432x288 with 1 Axes>"
      ]
     },
     "metadata": {
      "needs_background": "light"
     },
     "output_type": "display_data"
    }
   ],
   "source": [
    "x = sns.regplot(x=\"testscr\" , y=\"expnstu\", data=df, color = 'y')"
   ]
  },
  {
   "cell_type": "code",
   "execution_count": 160,
   "id": "d4c2e69d",
   "metadata": {
    "colab": {
     "base_uri": "https://localhost:8080/",
     "height": 279
    },
    "id": "d4c2e69d",
    "outputId": "4a71ecb1-fea3-482a-9c9a-fbd158d32e70"
   },
   "outputs": [
    {
     "data": {
      "image/png": "[encoded data removed]",
      "text/plain": [
       "<Figure size 432x288 with 1 Axes>"
      ]
     },
     "metadata": {
      "needs_background": "light"
     },
     "output_type": "display_data"
    }
   ],
   "source": [
    "x = sns.regplot(x=\"testscr\", y=\"str\", data=df, color='r')"
   ]
  },
  {
   "cell_type": "code",
   "execution_count": 161,
   "id": "2c6e52ff",
   "metadata": {
    "colab": {
     "base_uri": "https://localhost:8080/",
     "height": 279
    },
    "id": "2c6e52ff",
    "outputId": "66179a96-6fc3-4449-fc4f-4ab0a18a20a3"
   },
   "outputs": [
    {
     "data": {
      "image/png": "[encoded data removed]",
      "text/plain": [
       "<Figure size 432x288 with 1 Axes>"
      ]
     },
     "metadata": {
      "needs_background": "light"
     },
     "output_type": "display_data"
    }
   ],
   "source": [
    "x = sns.regplot(x=\"testscr\", y=\"avginc\", data=df)"
   ]
  },
  {
   "cell_type": "markdown",
   "id": "a52146e9",
   "metadata": {
    "id": "a52146e9"
   },
   "source": [
    "**1.3 Split data in training and test set.**"
   ]
  },
  {
   "cell_type": "markdown",
   "id": "79803cb6",
   "metadata": {
    "id": "79803cb6"
   },
   "source": [
    "from sklearn.model_selection import train_test_split\n",
    "\n",
    "split_data = df.drop(df.columns[[16,17]], axis=1)\n",
    "\n",
    "data = split_data.iloc[:, 5:]\n",
    "\n",
    "y = data['testscr']\n",
    "\n",
    "X = data.loc[:, data.columns != 'testscr']\n",
    "\n",
    "X_train, X_test, y_train, y_test = train_test_split(X, y, random_state=42)\n",
    "\n",
    "X.head()"
   ]
  },
  {
   "cell_type": "code",
   "execution_count": 162,
   "id": "36783841",
   "metadata": {
    "colab": {
     "base_uri": "https://localhost:8080/",
     "height": 206
    },
    "id": "36783841",
    "outputId": "821d1781-87af-4ade-cdf8-6add3964dc4c"
   },
   "outputs": [
    {
     "data": {
      "text/html": [
       "<div>\n",
       "<style scoped>\n",
       "    .dataframe tbody tr th:only-of-type {\n",
       "        vertical-align: middle;\n",
       "    }\n",
       "\n",
       "    .dataframe tbody tr th {\n",
       "        vertical-align: top;\n",
       "    }\n",
       "\n",
       "    .dataframe thead th {\n",
       "        text-align: right;\n",
       "    }\n",
       "</style>\n",
       "<table border=\"1\" class=\"dataframe\">\n",
       "  <thead>\n",
       "    <tr style=\"text-align: right;\">\n",
       "      <th></th>\n",
       "      <th>enrltot</th>\n",
       "      <th>teachers</th>\n",
       "      <th>calwpct</th>\n",
       "      <th>mealpct</th>\n",
       "      <th>computer</th>\n",
       "      <th>compstu</th>\n",
       "      <th>expnstu</th>\n",
       "      <th>str</th>\n",
       "      <th>avginc</th>\n",
       "      <th>elpct</th>\n",
       "    </tr>\n",
       "  </thead>\n",
       "  <tbody>\n",
       "    <tr>\n",
       "      <th>0</th>\n",
       "      <td>195</td>\n",
       "      <td>10.900000</td>\n",
       "      <td>0.510200</td>\n",
       "      <td>2.040800</td>\n",
       "      <td>67</td>\n",
       "      <td>0.343590</td>\n",
       "      <td>6384.911133</td>\n",
       "      <td>17.889910</td>\n",
       "      <td>22.690001</td>\n",
       "      <td>0.000000</td>\n",
       "    </tr>\n",
       "    <tr>\n",
       "      <th>1</th>\n",
       "      <td>240</td>\n",
       "      <td>11.150000</td>\n",
       "      <td>15.416700</td>\n",
       "      <td>47.916698</td>\n",
       "      <td>101</td>\n",
       "      <td>0.420833</td>\n",
       "      <td>5099.380859</td>\n",
       "      <td>21.524664</td>\n",
       "      <td>9.824000</td>\n",
       "      <td>4.583333</td>\n",
       "    </tr>\n",
       "    <tr>\n",
       "      <th>2</th>\n",
       "      <td>1550</td>\n",
       "      <td>82.900002</td>\n",
       "      <td>55.032299</td>\n",
       "      <td>76.322601</td>\n",
       "      <td>169</td>\n",
       "      <td>0.109032</td>\n",
       "      <td>5501.954590</td>\n",
       "      <td>18.697226</td>\n",
       "      <td>8.978000</td>\n",
       "      <td>30.000002</td>\n",
       "    </tr>\n",
       "    <tr>\n",
       "      <th>3</th>\n",
       "      <td>243</td>\n",
       "      <td>14.000000</td>\n",
       "      <td>36.475399</td>\n",
       "      <td>77.049202</td>\n",
       "      <td>85</td>\n",
       "      <td>0.349794</td>\n",
       "      <td>7101.831055</td>\n",
       "      <td>17.357143</td>\n",
       "      <td>8.978000</td>\n",
       "      <td>0.000000</td>\n",
       "    </tr>\n",
       "    <tr>\n",
       "      <th>4</th>\n",
       "      <td>1335</td>\n",
       "      <td>71.500000</td>\n",
       "      <td>33.108601</td>\n",
       "      <td>78.427002</td>\n",
       "      <td>171</td>\n",
       "      <td>0.128090</td>\n",
       "      <td>5235.987793</td>\n",
       "      <td>18.671329</td>\n",
       "      <td>9.080333</td>\n",
       "      <td>13.857677</td>\n",
       "    </tr>\n",
       "  </tbody>\n",
       "</table>\n",
       "</div>"
      ],
      "text/plain": [
       "   enrltot   teachers    calwpct    mealpct  computer   compstu      expnstu  \\\n",
       "0      195  10.900000   0.510200   2.040800        67  0.343590  6384.911133   \n",
       "1      240  11.150000  15.416700  47.916698       101  0.420833  5099.380859   \n",
       "2     1550  82.900002  55.032299  76.322601       169  0.109032  5501.954590   \n",
       "3      243  14.000000  36.475399  77.049202        85  0.349794  7101.831055   \n",
       "4     1335  71.500000  33.108601  78.427002       171  0.128090  5235.987793   \n",
       "\n",
       "         str     avginc      elpct  \n",
       "0  17.889910  22.690001   0.000000  \n",
       "1  21.524664   9.824000   4.583333  \n",
       "2  18.697226   8.978000  30.000002  \n",
       "3  17.357143   8.978000   0.000000  \n",
       "4  18.671329   9.080333  13.857677  "
      ]
     },
     "execution_count": 162,
     "metadata": {},
     "output_type": "execute_result"
    }
   ],
   "source": [
    "from sklearn.model_selection import train_test_split\n",
    "\n",
    "split_data = df.drop(df.columns[[16,17]], axis=1)\n",
    "\n",
    "data = split_data.iloc[:, 5:]\n",
    "\n",
    "y = data['testscr']\n",
    "\n",
    "X = data.loc[:, data.columns != 'testscr']\n",
    "\n",
    "X_train, X_test, y_train, y_test = train_test_split(X, y, random_state=42)\n",
    "\n",
    "X.head()"
   ]
  },
  {
   "cell_type": "markdown",
   "id": "5f6d0e4f",
   "metadata": {
    "id": "5f6d0e4f"
   },
   "source": [
    "**Build models that evaluate the relationship between all available X variables in the California test dataset and the target variable.**"
   ]
  },
  {
   "cell_type": "markdown",
   "id": "235802f2",
   "metadata": {
    "id": "235802f2"
   },
   "source": [
    "from sklearn.model_selection import cross_val_score\n",
    "\n",
    "from sklearn.model_selection import RepeatedKFold\n",
    "\n",
    "from sklearn.model_selection import StratifiedKFold\n",
    "\n",
    "from sklearn.model_selection import KFold\n",
    "\n",
    "import numpy as np\n",
    "\n",
    "kfold = KFold(n_splits=5)\n",
    "\n",
    "skfold = StratifiedKFold(n_splits=5, shuffle=True)"
   ]
  },
  {
   "cell_type": "code",
   "execution_count": 163,
   "id": "14ab834b",
   "metadata": {
    "id": "14ab834b"
   },
   "outputs": [],
   "source": [
    "from sklearn.model_selection import cross_val_score\n",
    "from sklearn.model_selection import RepeatedKFold\n",
    "from sklearn.model_selection import StratifiedKFold\n",
    "\n",
    "from sklearn.model_selection import KFold\n",
    "import numpy as np\n",
    "\n",
    "kfold = KFold(n_splits=5)\n",
    "skfold = StratifiedKFold(n_splits=5, shuffle=True)"
   ]
  },
  {
   "cell_type": "markdown",
   "id": "4bc00f03",
   "metadata": {
    "id": "4bc00f03"
   },
   "source": [
    "**Evaluate KNN for regression using cross-validation with the default parameters**"
   ]
  },
  {
   "cell_type": "markdown",
   "id": "ea59ae18",
   "metadata": {
    "id": "ea59ae18"
   },
   "source": [
    "from sklearn.neighbors import KNeighborsRegressor\n",
    "\n",
    "knn = KNeighborsRegressor(n_neighbors=14)\n",
    "\n",
    "knn.fit(X_train, y_train)\n",
    "\n",
    "print(\"KNN for REGRESSION (UNSCALED DATA)\")\n",
    "\n",
    "print(\"Training set score: {:.2f}\".format(knn.score(X_train, y_train)))\n",
    "\n",
    "print(\"Test set score: {:.2f}\".format(knn.score(X_test, y_test)))\n",
    "\n",
    "print(\"Mean Cross-Validation, kfold: {:.2f}\".format(np.mean(cross_val_score(knn, X_train, y_train, cv=kfold))))\n",
    "\n",
    "knn_unscaled = np.mean(cross_val_score(knn, X_train, y_train, scoring='r2', cv=kfold))"
   ]
  },
  {
   "cell_type": "code",
   "execution_count": 164,
   "id": "cbc4ae3c",
   "metadata": {
    "colab": {
     "base_uri": "https://localhost:8080/"
    },
    "id": "cbc4ae3c",
    "outputId": "a6932f05-b822-45a4-c50c-b33aa505229c"
   },
   "outputs": [
    {
     "name": "stdout",
     "output_type": "stream",
     "text": [
      "KNN for REGRESSION (UNSCALED DATA)\n",
      "Training set score: 0.16\n",
      "Test set score: 0.03\n",
      "Mean Cross-Validation, kfold: 0.03\n"
     ]
    }
   ],
   "source": [
    "from sklearn.neighbors import KNeighborsRegressor\n",
    "\n",
    "knn = KNeighborsRegressor(n_neighbors=14)\n",
    "\n",
    "knn.fit(X_train, y_train)\n",
    "\n",
    "print(\"KNN for REGRESSION (UNSCALED DATA)\")\n",
    "\n",
    "print(\"Training set score: {:.2f}\".format(knn.score(X_train, y_train)))\n",
    "\n",
    "print(\"Test set score: {:.2f}\".format(knn.score(X_test, y_test)))\n",
    "\n",
    "print(\"Mean Cross-Validation, kfold: {:.2f}\".format(np.mean(cross_val_score(knn, X_train, y_train, cv=kfold))))\n",
    "\n",
    "knn_unscaled = np.mean(cross_val_score(knn, X_train, y_train, scoring='r2', cv=kfold))"
   ]
  },
  {
   "cell_type": "markdown",
   "id": "109a0602",
   "metadata": {
    "id": "109a0602"
   },
   "source": [
    "**Evaluate Linear Regression (OLS) with the default parameters.**"
   ]
  },
  {
   "cell_type": "markdown",
   "id": "9652b0cf",
   "metadata": {
    "id": "9652b0cf"
   },
   "source": [
    "from sklearn.linear_model import LinearRegression\n",
    "\n",
    "from sklearn.model_selection import train_test_split\n",
    "\n",
    "import numpy as np\n",
    "\n",
    "X_train, X_test, y_train, y_test = train_test_split(X, y, random_state=42)\n",
    "\n",
    "lr = LinearRegression()\n",
    "\n",
    "lr.fit(X_train, y_train)\n",
    "\n",
    "print(\"Training set score: {:.2f}\".format(lr.score(X_train, y_train)))\n",
    "\n",
    "print(\"Test set score: {:.2f}\".format(lr.score(X_test, y_test)))\n",
    "\n",
    "#cross validation\n",
    "\n",
    "from sklearn.model_selection import cross_val_score\n",
    "\n",
    "print(\"Mean Cross-Validation, kfold: {:.2f}\".format(np.mean(cross_val_score(lr, x_train, y_train, cv=kfold))))"
   ]
  },
  {
   "cell_type": "code",
   "execution_count": 165,
   "id": "b880991f",
   "metadata": {
    "colab": {
     "base_uri": "https://localhost:8080/"
    },
    "id": "b880991f",
    "outputId": "3ab3ed40-7874-4a6b-c720-11612e870ad6"
   },
   "outputs": [
    {
     "data": {
      "text/plain": [
       "LinearRegression()"
      ]
     },
     "execution_count": 165,
     "metadata": {},
     "output_type": "execute_result"
    }
   ],
   "source": [
    "from sklearn.linear_model import LinearRegression\n",
    "from sklearn.model_selection import train_test_split\n",
    "import numpy as np\n",
    "\n",
    "\n",
    "X_train, X_test, y_train, y_test = train_test_split(X, y, random_state=42)\n",
    "lr = LinearRegression()\n",
    "lr.fit(X_train, y_train)"
   ]
  },
  {
   "cell_type": "code",
   "execution_count": 166,
   "id": "6185ab12",
   "metadata": {
    "colab": {
     "base_uri": "https://localhost:8080/"
    },
    "id": "6185ab12",
    "outputId": "77939baf-0138-4be5-854a-7a0cecdc83a1"
   },
   "outputs": [
    {
     "name": "stdout",
     "output_type": "stream",
     "text": [
      "Training set score: 0.81\n",
      "Test set score: 0.81\n",
      "Mean Cross-Validation, kfold: 0.78\n"
     ]
    }
   ],
   "source": [
    "print(\"Training set score: {:.2f}\".format(lr.score(X_train, y_train)))\n",
    "print(\"Test set score: {:.2f}\".format(lr.score(X_test, y_test)))\n",
    "\n",
    "#cross validation\n",
    "from sklearn.model_selection import cross_val_score\n",
    "\n",
    "print(\"Mean Cross-Validation, kfold: {:.2f}\".format(np.mean(cross_val_score(lr, X_train, y_train, cv=kfold))))"
   ]
  },
  {
   "cell_type": "markdown",
   "id": "b274ca3e",
   "metadata": {
    "id": "b274ca3e"
   },
   "source": [
    "**Evaluate Ridge using cross-validation with the default parameters.**"
   ]
  },
  {
   "cell_type": "markdown",
   "id": "ceb85210",
   "metadata": {
    "id": "ceb85210"
   },
   "source": [
    "from sklearn.linear_model import Ridge\n",
    "\n",
    "ridge = Ridge().fit(X_train, y_train)\n",
    "\n",
    "print(\"Training set score: {:.2f}\".format(ridge.score(X_train, y_train)))\n",
    "\n",
    "print(\"Test set score: {:.2f}\".format(ridge.score(X_test, y_test)))\n",
    "\n",
    "print(\"Mean Cross-Validation, Kfold: {:.2f}\".format(np.mean(cross_val_score(ridge, X_train, y_train, cv=kfold))))\n",
    "\n",
    "ridge_unscaled = np.mean(cross_val_score(ridge, X_train, y_train, cv=kfold)) "
   ]
  },
  {
   "cell_type": "code",
   "execution_count": 167,
   "id": "9534e054",
   "metadata": {
    "colab": {
     "base_uri": "https://localhost:8080/"
    },
    "id": "9534e054",
    "outputId": "c8b6874a-0745-474c-c19b-917c3acf8ea3"
   },
   "outputs": [
    {
     "name": "stdout",
     "output_type": "stream",
     "text": [
      "Training set score: 0.81\n",
      "Test set score: 0.81\n",
      "Mean Cross-Validation, Kfold: 0.78\n"
     ]
    }
   ],
   "source": [
    "from sklearn.linear_model import Ridge\n",
    "ridge = Ridge().fit(X_train, y_train)\n",
    "print(\"Training set score: {:.2f}\".format(ridge.score(X_train, y_train)))\n",
    "print(\"Test set score: {:.2f}\".format(ridge.score(X_test, y_test)))\n",
    "print(\"Mean Cross-Validation, Kfold: {:.2f}\".format(np.mean(cross_val_score(ridge, X_train, y_train, cv=kfold))))\n",
    "ridge_unscaled = np.mean(cross_val_score(ridge, X_train, y_train, cv=kfold)) "
   ]
  },
  {
   "cell_type": "markdown",
   "id": "9f13dba8",
   "metadata": {
    "id": "9f13dba8"
   },
   "source": [
    "**Evaluate Lasso using cross-validation with the default parameters.**"
   ]
  },
  {
   "cell_type": "markdown",
   "id": "dd432bdb",
   "metadata": {
    "id": "dd432bdb"
   },
   "source": [
    "from sklearn.linear_model import Lasso\n",
    "\n",
    "lasso = Lasso(alpha=0.01, max_iter=100000).fit(X_train, y_train)\n",
    "\n",
    "print(\"Training set score: {:.2f}\".format(lasso.score(X_train, y_train)))\n",
    "\n",
    "print(\"Test set score: {:.2f}\".format(lasso.score(X_test, y_test)))\n",
    "\n",
    "print(\"Mean Cross-Validation, Kfold: {:.2f}\".format(np.mean(cross_val_score(lasso, X_train, y_train, cv=kfold))))"
   ]
  },
  {
   "cell_type": "code",
   "execution_count": 168,
   "id": "793d2568",
   "metadata": {
    "colab": {
     "base_uri": "https://localhost:8080/"
    },
    "id": "793d2568",
    "outputId": "cd33f354-d65a-446c-e966-782e062db68a"
   },
   "outputs": [
    {
     "name": "stdout",
     "output_type": "stream",
     "text": [
      "Training set score: 0.81\n",
      "Test set score: 0.81\n",
      "Mean Cross-Validation, Kfold: 0.78\n"
     ]
    }
   ],
   "source": [
    "from sklearn.linear_model import Lasso\n",
    "lasso = Lasso(alpha=0.01, max_iter=100000).fit(X_train, y_train)\n",
    "print(\"Training set score: {:.2f}\".format(lasso.score(X_train, y_train)))\n",
    "print(\"Test set score: {:.2f}\".format(lasso.score(X_test, y_test)))\n",
    "print(\"Mean Cross-Validation, Kfold: {:.2f}\".format(np.mean(cross_val_score(lasso, X_train, y_train, cv=kfold))))"
   ]
  },
  {
   "cell_type": "markdown",
   "id": "9ffa853a",
   "metadata": {
    "id": "9ffa853a"
   },
   "source": [
    "**Does scaling the data with the StandardScaler help?**"
   ]
  },
  {
   "cell_type": "markdown",
   "id": "29f014e4",
   "metadata": {
    "id": "29f014e4"
   },
   "source": [
    "from sklearn import preprocessing\n",
    "\n",
    "from sklearn.neighbors import KNeighborsRegressor\n",
    "\n",
    "scaler = preprocessing.StandardScaler().fit(X_train)\n",
    "\n",
    "X_train_scaled = scaler.transform(X_train)\n",
    "\n",
    "X_test_scaled = scaler.transform(X_test)\n",
    "\n",
    "knn = KNeighborsRegressor(n_neighbors=14)\n",
    "\n",
    "knn.fit(X_train_scaled, y_train)\n",
    "\n",
    "print(\"KNN for REGRESSION (UNSCALED DATA)\")\n",
    "\n",
    "print(\"Training set score: {:.2f}\".format(knn.score(X_train_scaled, y_train)))\n",
    "\n",
    "print(\"Test set score: {:.2f}\".format(knn.score(X_test_scaled, y_test)))\n",
    "\n",
    "print(\"Mean Cross-Validation, kfold: {:.2f}\".format(np.mean(cross_val_score(knn, X_train_scaled, y_train, cv=kfold))))\n",
    "\n",
    "knn_scaled = np.mean(cross_val_score(knn, X_train_scaled, y_train, cv=kfold))"
   ]
  },
  {
   "cell_type": "code",
   "execution_count": 169,
   "id": "c473ba18",
   "metadata": {
    "id": "c473ba18"
   },
   "outputs": [],
   "source": [
    "from sklearn import preprocessing\n",
    "from sklearn.neighbors import KNeighborsRegressor\n",
    "\n",
    "scaler = preprocessing.StandardScaler().fit(X_train)\n",
    "X_train_scaled = scaler.transform(X_train)\n",
    "X_test_scaled = scaler.transform(X_test)"
   ]
  },
  {
   "cell_type": "markdown",
   "id": "53a7f45b",
   "metadata": {
    "id": "53a7f45b"
   },
   "source": [
    "**Scaled KNN**"
   ]
  },
  {
   "cell_type": "code",
   "execution_count": 170,
   "id": "e56fb160",
   "metadata": {
    "colab": {
     "base_uri": "https://localhost:8080/"
    },
    "id": "e56fb160",
    "outputId": "7abc3ba6-e5b8-4c5d-95e0-b7441c86da49"
   },
   "outputs": [
    {
     "name": "stdout",
     "output_type": "stream",
     "text": [
      "KNN for REGRESSION (UNSCALED DATA)\n",
      "Training set score: 0.77\n",
      "Test set score: 0.76\n",
      "Mean Cross-Validation, kfold: 0.72\n"
     ]
    }
   ],
   "source": [
    "knn = KNeighborsRegressor(n_neighbors=14)\n",
    "\n",
    "knn.fit(X_train_scaled, y_train)\n",
    "\n",
    "print(\"KNN for REGRESSION (UNSCALED DATA)\")\n",
    "\n",
    "print(\"Training set score: {:.2f}\".format(knn.score(X_train_scaled, y_train)))\n",
    "\n",
    "print(\"Test set score: {:.2f}\".format(knn.score(X_test_scaled, y_test)))\n",
    "\n",
    "print(\"Mean Cross-Validation, kfold: {:.2f}\".format(np.mean(cross_val_score(knn, X_train_scaled, y_train, cv=kfold))))\n",
    "\n",
    "knn_scaled = np.mean(cross_val_score(knn, X_train_scaled, y_train, cv=kfold))"
   ]
  },
  {
   "cell_type": "markdown",
   "id": "fde0012a",
   "metadata": {
    "id": "fde0012a"
   },
   "source": [
    "As you can see from the tables above, the Mean Cross-Validation, kfold, increases from 0.03 to 0.72. Yes, scaling the data with the StandardScaler helps."
   ]
  },
  {
   "cell_type": "markdown",
   "id": "12961692",
   "metadata": {
    "id": "12961692"
   },
   "source": [
    "**Scaled OLS**"
   ]
  },
  {
   "cell_type": "markdown",
   "id": "2ebd2693",
   "metadata": {
    "id": "2ebd2693"
   },
   "source": [
    "lr = LinearRegression()\n",
    "\n",
    "lr.fit(X_train_scaled, y_train)\n",
    "\n",
    "print(\"Training set score: {:.2f}\".format(lr.score(X_train_scaled, y_train)))\n",
    "\n",
    "print(\"Test set score: {:.2f}\".format(lr.score(X_test_scaled, y_test)))\n",
    "\n",
    "#cross validation\n",
    "\n",
    "from sklearn.model_selection import cross_val_score\n",
    "\n",
    "print(\"Mean Cross-Validation, kfold: {:.2f}\".format(np.mean(cross_val_score(lr, x_train_scaled, y_train, cv=kfold))))"
   ]
  },
  {
   "cell_type": "code",
   "execution_count": 171,
   "id": "3bd48248",
   "metadata": {
    "colab": {
     "base_uri": "https://localhost:8080/"
    },
    "id": "3bd48248",
    "outputId": "a3927a12-4e57-4316-e602-0f9f5553b6db"
   },
   "outputs": [
    {
     "name": "stdout",
     "output_type": "stream",
     "text": [
      "Training set score: 0.81\n",
      "Test set score: 0.81\n",
      "Mean Cross-Validation, kfold: 0.78\n"
     ]
    }
   ],
   "source": [
    "lr = LinearRegression()\n",
    "lr.fit(X_train_scaled, y_train)\n",
    "print(\"Training set score: {:.2f}\".format(lr.score(X_train_scaled, y_train)))\n",
    "print(\"Test set score: {:.2f}\".format(lr.score(X_test_scaled, y_test)))\n",
    "\n",
    "#cross validation\n",
    "from sklearn.model_selection import cross_val_score\n",
    "\n",
    "print(\"Mean Cross-Validation, kfold: {:.2f}\".format(np.mean(cross_val_score(lr, X_train_scaled, y_train, cv=kfold))))"
   ]
  },
  {
   "cell_type": "markdown",
   "id": "49519feb",
   "metadata": {
    "id": "49519feb"
   },
   "source": [
    "As you can see from the tables above, the Mean Cross-Validation, kfold, remains 0.78. No, scaling the data with the StandardScaler does not help."
   ]
  },
  {
   "cell_type": "markdown",
   "id": "61f73f95",
   "metadata": {
    "id": "61f73f95"
   },
   "source": [
    "**Scaled Ridge**"
   ]
  },
  {
   "cell_type": "markdown",
   "id": "cc473816",
   "metadata": {
    "id": "cc473816"
   },
   "source": [
    "from sklearn.linear_model import Ridge\n",
    "\n",
    "ridge = Ridge().fit(X_train_scaled, y_train)\n",
    "\n",
    "print(\"Training set score: {:.2f}\".format(ridge.score(X_train_scaled, y_train)))\n",
    "\n",
    "print(\"Test set score: {:.2f}\".format(ridge.score(X_test_scaled, y_test)))\n",
    "\n",
    "print(\"Mean Cross-Validation, kfold: {:.2f}\".format(np.mean(cross_val_score(ridge, X_train_scaled, y_train, cv=kfold))))"
   ]
  },
  {
   "cell_type": "code",
   "execution_count": 174,
   "id": "72ce3945",
   "metadata": {
    "colab": {
     "base_uri": "https://localhost:8080/"
    },
    "id": "72ce3945",
    "outputId": "45f80145-3cec-47e7-833e-f140bc1434b1"
   },
   "outputs": [
    {
     "name": "stdout",
     "output_type": "stream",
     "text": [
      "Training set score: 0.81\n",
      "Test set score: 0.81\n",
      "Mean Cross-Validation, kfold: 0.78\n"
     ]
    }
   ],
   "source": [
    "from sklearn.linear_model import Ridge\n",
    "ridge = Ridge().fit(X_train_scaled, y_train)\n",
    "print(\"Training set score: {:.2f}\".format(ridge.score(X_train_scaled, y_train)))\n",
    "print(\"Test set score: {:.2f}\".format(ridge.score(X_test_scaled, y_test)))\n",
    "print(\"Mean Cross-Validation, kfold: {:.2f}\".format(np.mean(cross_val_score(ridge, X_train_scaled, y_train, cv=kfold))))"
   ]
  },
  {
   "cell_type": "markdown",
   "id": "00a23401",
   "metadata": {
    "id": "00a23401"
   },
   "source": [
    "As you can see from the tables above, the Mean Cross-Validation, kfold, remains 0.78. No, scaling the data with the StandardScaler does not help. No, scaling the data with the StandardScaler does not help."
   ]
  },
  {
   "cell_type": "markdown",
   "id": "0c89ddbb",
   "metadata": {
    "id": "0c89ddbb"
   },
   "source": [
    "**Scaled Lasso**"
   ]
  },
  {
   "cell_type": "markdown",
   "id": "3d619fde",
   "metadata": {
    "id": "3d619fde"
   },
   "source": [
    "from sklearn.linear_model import Lasso\n",
    "\n",
    "lasso = Lasso(alpha=0.01, max_iter=100000).fit(X_train_scaled, y_train)\n",
    "\n",
    "print(\"Training set score: {:.2f}\".format(lasso.score(X_train_scaled, y_train)))\n",
    "\n",
    "print(\"Test set score: {:.2f}\".format(lasso.score(X_test_scaled, y_test)))\n",
    "\n",
    "print(\"Mean Cross-Validation, kfold: {:.2f}\".format(np.mean(cross_val_score(lasso, X_train_scaled, y_train, cv=kfold))))"
   ]
  },
  {
   "cell_type": "code",
   "execution_count": 175,
   "id": "63a0955a",
   "metadata": {
    "colab": {
     "base_uri": "https://localhost:8080/"
    },
    "id": "63a0955a",
    "outputId": "3d197f06-8a25-4e42-9420-031dc12b3443"
   },
   "outputs": [
    {
     "name": "stdout",
     "output_type": "stream",
     "text": [
      "Training set score: 0.81\n",
      "Test set score: 0.81\n",
      "Mean Cross-Validation, kfold: 0.78\n"
     ]
    }
   ],
   "source": [
    "from sklearn.linear_model import Lasso\n",
    "lasso = Lasso(alpha=0.01, max_iter=100000).fit(X_train_scaled, y_train)\n",
    "print(\"Training set score: {:.2f}\".format(lasso.score(X_train_scaled, y_train)))\n",
    "print(\"Test set score: {:.2f}\".format(lasso.score(X_test_scaled, y_test)))\n",
    "print(\"Mean Cross-Validation, kfold: {:.2f}\".format(np.mean(cross_val_score(lasso, X_train_scaled, y_train, cv=kfold))))"
   ]
  },
  {
   "cell_type": "markdown",
   "id": "f01da819",
   "metadata": {
    "id": "f01da819"
   },
   "source": [
    "As you can see from the tables above, the Mean Cross-Validation, kfold, remains 0.78. No, scaling the data with the StandardScaler does not help."
   ]
  },
  {
   "cell_type": "markdown",
   "id": "c810679b",
   "metadata": {
    "id": "c810679b"
   },
   "source": [
    "**1.4 Tune the parameters of the models where possible using GridSearchCV. Do the results improve?**"
   ]
  },
  {
   "cell_type": "markdown",
   "id": "2c36ca7a",
   "metadata": {
    "id": "2c36ca7a"
   },
   "source": [
    "**GridSearchCV with knn**"
   ]
  },
  {
   "cell_type": "markdown",
   "id": "2dd4d69b",
   "metadata": {
    "id": "2dd4d69b"
   },
   "source": [
    "from sklearn.pipeline import make_pipeline\n",
    "\n",
    "from sklearn.neighbors import KNeighborsRegressor\n",
    "\n",
    "from sklearn.model_selection import GridSearchCV\n",
    "\n",
    "from sklearn.preprocessing import StandardScaler\n",
    "\n",
    "knn_pipe = make_pipeline(StandardScaler(), KNeighborsRegressor())\n",
    "\n",
    "knn_param_grid = {'kneighborsregressor__n_neighbors': range(1, 10)}\n",
    "\n",
    "knn_grid = GridSearchCV(knn_pipe, knn_param_grid, cv=kfold).fit(X_train_scaled, y_train)\n",
    "\n",
    "print(\"KNN for Regression (Scaled Data)\")\n",
    "\n",
    "print(\"Test set Score: {:.2f}\".format(knn_grid.score(X_test_scaled, y_test)))\n",
    "\n",
    "print(\"Best Parameter: {}\".format(knn_grid.best_params_))"
   ]
  },
  {
   "cell_type": "code",
   "execution_count": 186,
   "id": "64f36457",
   "metadata": {
    "id": "64f36457"
   },
   "outputs": [],
   "source": [
    "from sklearn.pipeline import make_pipeline\n",
    "from sklearn.neighbors import KNeighborsRegressor\n",
    "from sklearn.model_selection import GridSearchCV\n",
    "from sklearn.preprocessing import StandardScaler\n",
    "knn_pipe = make_pipeline(StandardScaler(), KNeighborsRegressor())"
   ]
  },
  {
   "cell_type": "code",
   "execution_count": 187,
   "id": "9ff271e8",
   "metadata": {
    "colab": {
     "base_uri": "https://localhost:8080/"
    },
    "id": "9ff271e8",
    "outputId": "5f09e028-a7be-4eb7-ae4f-95e7a21ced77"
   },
   "outputs": [
    {
     "name": "stdout",
     "output_type": "stream",
     "text": [
      "KNN for Regression (Scaled Data)\n",
      "Test set Score: 0.78\n",
      "Best Parameter: {'kneighborsregressor__n_neighbors': 6}\n"
     ]
    }
   ],
   "source": [
    "knn_param_grid = {'kneighborsregressor__n_neighbors': range(1, 10)}\n",
    "knn_grid = GridSearchCV(knn_pipe, knn_param_grid, cv=kfold).fit(X_train_scaled, y_train)\n",
    "print(\"KNN for Regression (Scaled Data)\")\n",
    "print(\"Test set Score: {:.2f}\".format(knn_grid.score(X_test_scaled, y_test)))\n",
    "print(\"Best Parameter: {}\".format(knn_grid.best_params_))"
   ]
  },
  {
   "cell_type": "markdown",
   "id": "36140d9c",
   "metadata": {
    "id": "36140d9c"
   },
   "source": [
    "As you can see from the tables above, yes, the results improve."
   ]
  },
  {
   "cell_type": "markdown",
   "id": "1f63b34c",
   "metadata": {
    "id": "1f63b34c"
   },
   "source": [
    "**GridSearchCV with OLS**"
   ]
  },
  {
   "cell_type": "markdown",
   "id": "d03ccb29",
   "metadata": {
    "id": "d03ccb29"
   },
   "source": [
    "Not available"
   ]
  },
  {
   "cell_type": "markdown",
   "id": "86936742",
   "metadata": {
    "id": "86936742"
   },
   "source": [
    "**GridSearchCV with Ridge**"
   ]
  },
  {
   "cell_type": "markdown",
   "id": "5790c460",
   "metadata": {
    "id": "5790c460"
   },
   "source": [
    "from sklearn.pipeline import make_pipeline\n",
    "\n",
    "from sklearn.neighbors import KNeighborsRegressor\n",
    "\n",
    "ridge_pipe = make_pipeline(StandardScaler(), Ridge())\n",
    "\n",
    "ridge_param_grid = {'ridge__alpha': np.linspace(0.1, 100.1, 1)}\n",
    "\n",
    "ridge_grid = GridSearchCV(ridge_pipe, ridge_param_grid, cv=kfold).fit(X_train_scaled, y_train)\n",
    "\n",
    "print(ridge_grid.best_params_)\n",
    "\n",
    "print(ridge_grid.score(X_test_scaled, y_test))"
   ]
  },
  {
   "cell_type": "code",
   "execution_count": 188,
   "id": "4792ac5e",
   "metadata": {
    "id": "4792ac5e"
   },
   "outputs": [],
   "source": [
    "from sklearn.pipeline import make_pipeline\n",
    "from sklearn.neighbors import KNeighborsRegressor\n",
    "\n",
    "ridge_pipe = make_pipeline(StandardScaler(), Ridge())\n",
    "\n",
    "ridge_param_grid = {'ridge__alpha': np.linspace(0.1, 100.1, 1)}\n",
    "\n",
    "ridge_grid = GridSearchCV(ridge_pipe, ridge_param_grid, cv=kfold).fit(X_train_scaled, y_train)"
   ]
  },
  {
   "cell_type": "code",
   "execution_count": 189,
   "id": "fe07ca0d",
   "metadata": {
    "colab": {
     "base_uri": "https://localhost:8080/"
    },
    "id": "fe07ca0d",
    "outputId": "929ebfa7-973c-4ab4-dcc2-a5388e05f6ff"
   },
   "outputs": [
    {
     "name": "stdout",
     "output_type": "stream",
     "text": [
      "{'ridge__alpha': 0.1}\n",
      "0.8070461725654837\n"
     ]
    }
   ],
   "source": [
    "print(ridge_grid.best_params_)\n",
    "print(ridge_grid.score(X_test_scaled, y_test))"
   ]
  },
  {
   "cell_type": "markdown",
   "id": "3feb3251",
   "metadata": {
    "id": "3feb3251"
   },
   "source": [
    "As you can see from the tables above, no, the results do not improve."
   ]
  },
  {
   "cell_type": "markdown",
   "id": "642d2b72",
   "metadata": {
    "id": "642d2b72"
   },
   "source": [
    "**GridSearchCV with LASSO**"
   ]
  },
  {
   "cell_type": "markdown",
   "id": "24fab80b",
   "metadata": {
    "id": "24fab80b"
   },
   "source": [
    "from sklearn.pipeline import make_pipeline\n",
    "\n",
    "from sklearn.neighbors import KNeighborsRegressor\n",
    "\n",
    "lasso_pipe = make_pipeline(StandardScaler(), Lasso())\n",
    "\n",
    "lasso_param_grid = {'lasso__alpha': np.linspace(0.1, 100.1, 1)}\n",
    "\n",
    "lasso_grid = GridSearchCV(lasso_pipe, lasso_param_grid, cv=kfold).fit(X_train_scaled, y_train)\n",
    "\n",
    "print(lasso_grid.best_params_)\n",
    "\n",
    "print(lasso_grid.score(X_test_scaled, y_test))"
   ]
  },
  {
   "cell_type": "code",
   "execution_count": 103,
   "id": "d3d1c894",
   "metadata": {
    "id": "d3d1c894"
   },
   "outputs": [],
   "source": [
    "from sklearn.pipeline import make_pipeline\n",
    "from sklearn.neighbors import KNeighborsRegressor\n",
    "\n",
    "lasso_pipe = make_pipeline(StandardScaler(), Lasso())\n",
    "\n",
    "lasso_param_grid = {'lasso__alpha': np.linspace(0.1, 100.1, 1)}\n",
    "\n",
    "lasso_grid = GridSearchCV(lasso_pipe, lasso_param_grid, cv=kfold).fit(X_train_scaled, y_train)"
   ]
  },
  {
   "cell_type": "code",
   "execution_count": 104,
   "id": "10f8a042",
   "metadata": {
    "colab": {
     "base_uri": "https://localhost:8080/"
    },
    "id": "10f8a042",
    "outputId": "d17bfcd6-7a2b-4da8-9ee6-8f6472757987"
   },
   "outputs": [
    {
     "name": "stdout",
     "output_type": "stream",
     "text": [
      "{'lasso__alpha': 0.1}\n",
      "0.8054789700502258\n"
     ]
    }
   ],
   "source": [
    "print(lasso_grid.best_params_)\n",
    "print(lasso_grid.score(X_test_scaled, y_test))"
   ]
  },
  {
   "cell_type": "markdown",
   "id": "a2e91423",
   "metadata": {
    "id": "a2e91423"
   },
   "source": [
    "As you can see from the tables above, no, the results do not improve."
   ]
  },
  {
   "cell_type": "markdown",
   "id": "e1434faa",
   "metadata": {
    "id": "e1434faa"
   },
   "source": [
    "**1.5 Compare the coefficients of your two best linear models (not knn), do they agree on which features are important?**"
   ]
  },
  {
   "cell_type": "markdown",
   "id": "1fcc48bc",
   "metadata": {
    "id": "1fcc48bc"
   },
   "source": [
    "Since GridSearchCV with OLS is not available for comparison, my two best linear models are Ridge and LASSO."
   ]
  },
  {
   "cell_type": "markdown",
   "id": "e83f18bb",
   "metadata": {
    "id": "e83f18bb"
   },
   "source": [
    "import pandas as pd\n",
    "\n",
    "import numpy as np\n",
    "\n",
    "lasso = Lasso(alpha=0.1).fit(X_train_scaled, y_train)\n",
    "\n",
    "ridge = Ridge(alpha=10).fit(X_train_scaled, y_train)\n",
    "\n",
    "d = {'LASSO': lasso.coef_, 'Ridge': ridge.coef_}\n",
    "\n",
    "results = pd.DataFrame(d, X.columns)\n",
    "\n",
    "results"
   ]
  },
  {
   "cell_type": "code",
   "execution_count": 105,
   "id": "ce0af726",
   "metadata": {
    "colab": {
     "base_uri": "https://localhost:8080/",
     "height": 363
    },
    "id": "ce0af726",
    "outputId": "cd577c6f-3ea6-47a4-aed6-24e09a27e954"
   },
   "outputs": [
    {
     "data": {
      "text/html": [
       "<div>\n",
       "<style scoped>\n",
       "    .dataframe tbody tr th:only-of-type {\n",
       "        vertical-align: middle;\n",
       "    }\n",
       "\n",
       "    .dataframe tbody tr th {\n",
       "        vertical-align: top;\n",
       "    }\n",
       "\n",
       "    .dataframe thead th {\n",
       "        text-align: right;\n",
       "    }\n",
       "</style>\n",
       "<table border=\"1\" class=\"dataframe\">\n",
       "  <thead>\n",
       "    <tr style=\"text-align: right;\">\n",
       "      <th></th>\n",
       "      <th>LASSO</th>\n",
       "      <th>Ridge</th>\n",
       "    </tr>\n",
       "  </thead>\n",
       "  <tbody>\n",
       "    <tr>\n",
       "      <th>enrltot</th>\n",
       "      <td>-0.000000</td>\n",
       "      <td>-0.296762</td>\n",
       "    </tr>\n",
       "    <tr>\n",
       "      <th>teachers</th>\n",
       "      <td>-0.000000</td>\n",
       "      <td>-0.347868</td>\n",
       "    </tr>\n",
       "    <tr>\n",
       "      <th>calwpct</th>\n",
       "      <td>-1.015310</td>\n",
       "      <td>-1.647477</td>\n",
       "    </tr>\n",
       "    <tr>\n",
       "      <th>mealpct</th>\n",
       "      <td>-9.931920</td>\n",
       "      <td>-8.810726</td>\n",
       "    </tr>\n",
       "    <tr>\n",
       "      <th>computer</th>\n",
       "      <td>0.000000</td>\n",
       "      <td>0.755095</td>\n",
       "    </tr>\n",
       "    <tr>\n",
       "      <th>compstu</th>\n",
       "      <td>0.019521</td>\n",
       "      <td>-0.037605</td>\n",
       "    </tr>\n",
       "    <tr>\n",
       "      <th>expnstu</th>\n",
       "      <td>1.074776</td>\n",
       "      <td>1.117175</td>\n",
       "    </tr>\n",
       "    <tr>\n",
       "      <th>str</th>\n",
       "      <td>-0.580477</td>\n",
       "      <td>-0.634427</td>\n",
       "    </tr>\n",
       "    <tr>\n",
       "      <th>avginc</th>\n",
       "      <td>3.697999</td>\n",
       "      <td>3.911891</td>\n",
       "    </tr>\n",
       "    <tr>\n",
       "      <th>elpct</th>\n",
       "      <td>-3.349810</td>\n",
       "      <td>-3.806197</td>\n",
       "    </tr>\n",
       "  </tbody>\n",
       "</table>\n",
       "</div>"
      ],
      "text/plain": [
       "             LASSO     Ridge\n",
       "enrltot  -0.000000 -0.296762\n",
       "teachers -0.000000 -0.347868\n",
       "calwpct  -1.015310 -1.647477\n",
       "mealpct  -9.931920 -8.810726\n",
       "computer  0.000000  0.755095\n",
       "compstu   0.019521 -0.037605\n",
       "expnstu   1.074776  1.117175\n",
       "str      -0.580477 -0.634427\n",
       "avginc    3.697999  3.911891\n",
       "elpct    -3.349810 -3.806197"
      ]
     },
     "execution_count": 105,
     "metadata": {},
     "output_type": "execute_result"
    }
   ],
   "source": [
    "import pandas as pd\n",
    "\n",
    "import numpy as np\n",
    "\n",
    "lasso = Lasso(alpha=0.1).fit(X_train_scaled, y_train)\n",
    "\n",
    "ridge = Ridge(alpha=10).fit(X_train_scaled, y_train)\n",
    "\n",
    "d = {'LASSO': lasso.coef_, 'Ridge': ridge.coef_}\n",
    "\n",
    "results = pd.DataFrame(d, X.columns)\n",
    "\n",
    "results"
   ]
  },
  {
   "cell_type": "markdown",
   "id": "9f6d93e7",
   "metadata": {
    "id": "9f6d93e7"
   },
   "source": [
    "Yes, they agree on important features such as **avginc** and **expnstu**."
   ]
  },
  {
   "cell_type": "markdown",
   "id": "142f98f0",
   "metadata": {
    "id": "142f98f0"
   },
   "source": [
    "print(\"Number of features used with LASSO: {}\".format(np.sum(lasso.coef_ !=0)))\n",
    "\n",
    "print(\"Number of features used with Ridge: {}\".format(np.sum(ridge.coef_ !=0)))"
   ]
  },
  {
   "cell_type": "code",
   "execution_count": 106,
   "id": "e97b8aa6",
   "metadata": {
    "colab": {
     "base_uri": "https://localhost:8080/"
    },
    "id": "e97b8aa6",
    "outputId": "709563ad-9dab-42dc-b757-04d8b8215e7b"
   },
   "outputs": [
    {
     "name": "stdout",
     "output_type": "stream",
     "text": [
      "Number of features used with LASSO: 7\n",
      "Number of features used with Ridge: 10\n"
     ]
    }
   ],
   "source": [
    "print(\"Number of features used with LASSO: {}\".format(np.sum(lasso.coef_ !=0)))\n",
    "print(\"Number of features used with Ridge: {}\".format(np.sum(ridge.coef_ !=0)))"
   ]
  },
  {
   "cell_type": "markdown",
   "id": "33033e57",
   "metadata": {
    "id": "33033e57"
   },
   "source": [
    "**1.6 Discuss which final model you would choose to predict new data**"
   ]
  },
  {
   "cell_type": "markdown",
   "id": "ffa23012",
   "metadata": {
    "id": "ffa23012"
   },
   "source": [
    "As you can see from the comparision above, I would choose LASSO for the disparaties between the coefficients are smaller and its accuracy is higher."
   ]
  },
  {
   "cell_type": "markdown",
   "id": "2ffbe7e1",
   "metadata": {
    "id": "2ffbe7e1"
   },
   "source": [
    "**Part 2: Classification on red and white wine characteristics**"
   ]
  },
  {
   "cell_type": "markdown",
   "id": "95de3a55",
   "metadata": {
    "id": "95de3a55"
   },
   "source": [
    "First, import the red and the white wine csv files into separate pandas dataframes from the following website:\n",
    "\n",
    "https://archive.ics.uci.edu/ml/machine-learning-databases/wine-quality/\n",
    "\n",
    "(Note: you need to adjust the argument for read_csv() from sep=',' to sep=';')\n"
   ]
  },
  {
   "cell_type": "markdown",
   "id": "18485759",
   "metadata": {
    "id": "18485759"
   },
   "source": [
    "r = pd.read_csv(\"https://archive.ics.uci.edu/ml/machine-learning-databases/wine-quality/winequality-red.csv\", sep =';')\n",
    "\n",
    "r.head()"
   ]
  },
  {
   "cell_type": "code",
   "execution_count": 193,
   "id": "8de139c3",
   "metadata": {
    "id": "8de139c3"
   },
   "outputs": [],
   "source": [
    "r = pd.read_csv(\"https://archive.ics.uci.edu/ml/machine-learning-databases/wine-quality/winequality-red.csv\", sep =';')"
   ]
  },
  {
   "cell_type": "code",
   "execution_count": 194,
   "id": "9bde94e7",
   "metadata": {
    "colab": {
     "base_uri": "https://localhost:8080/",
     "height": 267
    },
    "id": "9bde94e7",
    "outputId": "6891747e-bca8-4815-886e-29853ca78559"
   },
   "outputs": [
    {
     "data": {
      "text/html": [
       "<div>\n",
       "<style scoped>\n",
       "    .dataframe tbody tr th:only-of-type {\n",
       "        vertical-align: middle;\n",
       "    }\n",
       "\n",
       "    .dataframe tbody tr th {\n",
       "        vertical-align: top;\n",
       "    }\n",
       "\n",
       "    .dataframe thead th {\n",
       "        text-align: right;\n",
       "    }\n",
       "</style>\n",
       "<table border=\"1\" class=\"dataframe\">\n",
       "  <thead>\n",
       "    <tr style=\"text-align: right;\">\n",
       "      <th></th>\n",
       "      <th>fixed acidity</th>\n",
       "      <th>volatile acidity</th>\n",
       "      <th>citric acid</th>\n",
       "      <th>residual sugar</th>\n",
       "      <th>chlorides</th>\n",
       "      <th>free sulfur dioxide</th>\n",
       "      <th>total sulfur dioxide</th>\n",
       "      <th>density</th>\n",
       "      <th>pH</th>\n",
       "      <th>sulphates</th>\n",
       "      <th>alcohol</th>\n",
       "      <th>quality</th>\n",
       "    </tr>\n",
       "  </thead>\n",
       "  <tbody>\n",
       "    <tr>\n",
       "      <th>0</th>\n",
       "      <td>7.4</td>\n",
       "      <td>0.70</td>\n",
       "      <td>0.00</td>\n",
       "      <td>1.9</td>\n",
       "      <td>0.076</td>\n",
       "      <td>11.0</td>\n",
       "      <td>34.0</td>\n",
       "      <td>0.9978</td>\n",
       "      <td>3.51</td>\n",
       "      <td>0.56</td>\n",
       "      <td>9.4</td>\n",
       "      <td>5</td>\n",
       "    </tr>\n",
       "    <tr>\n",
       "      <th>1</th>\n",
       "      <td>7.8</td>\n",
       "      <td>0.88</td>\n",
       "      <td>0.00</td>\n",
       "      <td>2.6</td>\n",
       "      <td>0.098</td>\n",
       "      <td>25.0</td>\n",
       "      <td>67.0</td>\n",
       "      <td>0.9968</td>\n",
       "      <td>3.20</td>\n",
       "      <td>0.68</td>\n",
       "      <td>9.8</td>\n",
       "      <td>5</td>\n",
       "    </tr>\n",
       "    <tr>\n",
       "      <th>2</th>\n",
       "      <td>7.8</td>\n",
       "      <td>0.76</td>\n",
       "      <td>0.04</td>\n",
       "      <td>2.3</td>\n",
       "      <td>0.092</td>\n",
       "      <td>15.0</td>\n",
       "      <td>54.0</td>\n",
       "      <td>0.9970</td>\n",
       "      <td>3.26</td>\n",
       "      <td>0.65</td>\n",
       "      <td>9.8</td>\n",
       "      <td>5</td>\n",
       "    </tr>\n",
       "    <tr>\n",
       "      <th>3</th>\n",
       "      <td>11.2</td>\n",
       "      <td>0.28</td>\n",
       "      <td>0.56</td>\n",
       "      <td>1.9</td>\n",
       "      <td>0.075</td>\n",
       "      <td>17.0</td>\n",
       "      <td>60.0</td>\n",
       "      <td>0.9980</td>\n",
       "      <td>3.16</td>\n",
       "      <td>0.58</td>\n",
       "      <td>9.8</td>\n",
       "      <td>6</td>\n",
       "    </tr>\n",
       "    <tr>\n",
       "      <th>4</th>\n",
       "      <td>7.4</td>\n",
       "      <td>0.70</td>\n",
       "      <td>0.00</td>\n",
       "      <td>1.9</td>\n",
       "      <td>0.076</td>\n",
       "      <td>11.0</td>\n",
       "      <td>34.0</td>\n",
       "      <td>0.9978</td>\n",
       "      <td>3.51</td>\n",
       "      <td>0.56</td>\n",
       "      <td>9.4</td>\n",
       "      <td>5</td>\n",
       "    </tr>\n",
       "  </tbody>\n",
       "</table>\n",
       "</div>"
      ],
      "text/plain": [
       "   fixed acidity  volatile acidity  citric acid  residual sugar  chlorides  \\\n",
       "0            7.4              0.70         0.00             1.9      0.076   \n",
       "1            7.8              0.88         0.00             2.6      0.098   \n",
       "2            7.8              0.76         0.04             2.3      0.092   \n",
       "3           11.2              0.28         0.56             1.9      0.075   \n",
       "4            7.4              0.70         0.00             1.9      0.076   \n",
       "\n",
       "   free sulfur dioxide  total sulfur dioxide  density    pH  sulphates  \\\n",
       "0                 11.0                  34.0   0.9978  3.51       0.56   \n",
       "1                 25.0                  67.0   0.9968  3.20       0.68   \n",
       "2                 15.0                  54.0   0.9970  3.26       0.65   \n",
       "3                 17.0                  60.0   0.9980  3.16       0.58   \n",
       "4                 11.0                  34.0   0.9978  3.51       0.56   \n",
       "\n",
       "   alcohol  quality  \n",
       "0      9.4        5  \n",
       "1      9.8        5  \n",
       "2      9.8        5  \n",
       "3      9.8        6  \n",
       "4      9.4        5  "
      ]
     },
     "execution_count": 194,
     "metadata": {},
     "output_type": "execute_result"
    }
   ],
   "source": [
    "r.head()"
   ]
  },
  {
   "cell_type": "markdown",
   "id": "ecccd442",
   "metadata": {
    "id": "ecccd442"
   },
   "source": [
    "w = pd.read_csv(\"https://archive.ics.uci.edu/ml/machine-learning-databases/wine-quality/winequality-white.csv\", sep=';')\n",
    "\n",
    "w.head()"
   ]
  },
  {
   "cell_type": "code",
   "execution_count": 195,
   "id": "33e30a93",
   "metadata": {
    "id": "33e30a93"
   },
   "outputs": [],
   "source": [
    "w = pd.read_csv(\"https://archive.ics.uci.edu/ml/machine-learning-databases/wine-quality/winequality-white.csv\", sep=';')"
   ]
  },
  {
   "cell_type": "code",
   "execution_count": 196,
   "id": "11a51cbb",
   "metadata": {
    "colab": {
     "base_uri": "https://localhost:8080/",
     "height": 267
    },
    "id": "11a51cbb",
    "outputId": "a5bb2f5a-d7bc-4bf0-e258-b8e8a8d83e90"
   },
   "outputs": [
    {
     "data": {
      "text/html": [
       "<div>\n",
       "<style scoped>\n",
       "    .dataframe tbody tr th:only-of-type {\n",
       "        vertical-align: middle;\n",
       "    }\n",
       "\n",
       "    .dataframe tbody tr th {\n",
       "        vertical-align: top;\n",
       "    }\n",
       "\n",
       "    .dataframe thead th {\n",
       "        text-align: right;\n",
       "    }\n",
       "</style>\n",
       "<table border=\"1\" class=\"dataframe\">\n",
       "  <thead>\n",
       "    <tr style=\"text-align: right;\">\n",
       "      <th></th>\n",
       "      <th>fixed acidity</th>\n",
       "      <th>volatile acidity</th>\n",
       "      <th>citric acid</th>\n",
       "      <th>residual sugar</th>\n",
       "      <th>chlorides</th>\n",
       "      <th>free sulfur dioxide</th>\n",
       "      <th>total sulfur dioxide</th>\n",
       "      <th>density</th>\n",
       "      <th>pH</th>\n",
       "      <th>sulphates</th>\n",
       "      <th>alcohol</th>\n",
       "      <th>quality</th>\n",
       "    </tr>\n",
       "  </thead>\n",
       "  <tbody>\n",
       "    <tr>\n",
       "      <th>0</th>\n",
       "      <td>7.0</td>\n",
       "      <td>0.27</td>\n",
       "      <td>0.36</td>\n",
       "      <td>20.7</td>\n",
       "      <td>0.045</td>\n",
       "      <td>45.0</td>\n",
       "      <td>170.0</td>\n",
       "      <td>1.0010</td>\n",
       "      <td>3.00</td>\n",
       "      <td>0.45</td>\n",
       "      <td>8.8</td>\n",
       "      <td>6</td>\n",
       "    </tr>\n",
       "    <tr>\n",
       "      <th>1</th>\n",
       "      <td>6.3</td>\n",
       "      <td>0.30</td>\n",
       "      <td>0.34</td>\n",
       "      <td>1.6</td>\n",
       "      <td>0.049</td>\n",
       "      <td>14.0</td>\n",
       "      <td>132.0</td>\n",
       "      <td>0.9940</td>\n",
       "      <td>3.30</td>\n",
       "      <td>0.49</td>\n",
       "      <td>9.5</td>\n",
       "      <td>6</td>\n",
       "    </tr>\n",
       "    <tr>\n",
       "      <th>2</th>\n",
       "      <td>8.1</td>\n",
       "      <td>0.28</td>\n",
       "      <td>0.40</td>\n",
       "      <td>6.9</td>\n",
       "      <td>0.050</td>\n",
       "      <td>30.0</td>\n",
       "      <td>97.0</td>\n",
       "      <td>0.9951</td>\n",
       "      <td>3.26</td>\n",
       "      <td>0.44</td>\n",
       "      <td>10.1</td>\n",
       "      <td>6</td>\n",
       "    </tr>\n",
       "    <tr>\n",
       "      <th>3</th>\n",
       "      <td>7.2</td>\n",
       "      <td>0.23</td>\n",
       "      <td>0.32</td>\n",
       "      <td>8.5</td>\n",
       "      <td>0.058</td>\n",
       "      <td>47.0</td>\n",
       "      <td>186.0</td>\n",
       "      <td>0.9956</td>\n",
       "      <td>3.19</td>\n",
       "      <td>0.40</td>\n",
       "      <td>9.9</td>\n",
       "      <td>6</td>\n",
       "    </tr>\n",
       "    <tr>\n",
       "      <th>4</th>\n",
       "      <td>7.2</td>\n",
       "      <td>0.23</td>\n",
       "      <td>0.32</td>\n",
       "      <td>8.5</td>\n",
       "      <td>0.058</td>\n",
       "      <td>47.0</td>\n",
       "      <td>186.0</td>\n",
       "      <td>0.9956</td>\n",
       "      <td>3.19</td>\n",
       "      <td>0.40</td>\n",
       "      <td>9.9</td>\n",
       "      <td>6</td>\n",
       "    </tr>\n",
       "  </tbody>\n",
       "</table>\n",
       "</div>"
      ],
      "text/plain": [
       "   fixed acidity  volatile acidity  citric acid  residual sugar  chlorides  \\\n",
       "0            7.0              0.27         0.36            20.7      0.045   \n",
       "1            6.3              0.30         0.34             1.6      0.049   \n",
       "2            8.1              0.28         0.40             6.9      0.050   \n",
       "3            7.2              0.23         0.32             8.5      0.058   \n",
       "4            7.2              0.23         0.32             8.5      0.058   \n",
       "\n",
       "   free sulfur dioxide  total sulfur dioxide  density    pH  sulphates  \\\n",
       "0                 45.0                 170.0   1.0010  3.00       0.45   \n",
       "1                 14.0                 132.0   0.9940  3.30       0.49   \n",
       "2                 30.0                  97.0   0.9951  3.26       0.44   \n",
       "3                 47.0                 186.0   0.9956  3.19       0.40   \n",
       "4                 47.0                 186.0   0.9956  3.19       0.40   \n",
       "\n",
       "   alcohol  quality  \n",
       "0      8.8        6  \n",
       "1      9.5        6  \n",
       "2     10.1        6  \n",
       "3      9.9        6  \n",
       "4      9.9        6  "
      ]
     },
     "execution_count": 196,
     "metadata": {},
     "output_type": "execute_result"
    }
   ],
   "source": [
    "w.head()"
   ]
  },
  {
   "cell_type": "markdown",
   "id": "8646261b",
   "metadata": {
    "id": "8646261b"
   },
   "source": [
    "Add a new column to each data frame called \"winetype\".  For the white wine dataset label the values in this column with a 0, indicating white wine.  For the red wine dataset, label values with a 1, indicating red wine.  Combine both datasets into a single dataframe.\n",
    "\n",
    "The target data (i.e. the dependent variable) is \"winetype\".\n"
   ]
  },
  {
   "cell_type": "markdown",
   "id": "b93c2c3f",
   "metadata": {
    "id": "b93c2c3f"
   },
   "source": [
    "red = r.assign(winetype=1)\n",
    "\n",
    "red.head()"
   ]
  },
  {
   "cell_type": "code",
   "execution_count": 197,
   "id": "bafb6152",
   "metadata": {
    "colab": {
     "base_uri": "https://localhost:8080/",
     "height": 285
    },
    "id": "bafb6152",
    "outputId": "ae1b4cc5-e7ad-49e5-fea6-180dad192ae9"
   },
   "outputs": [
    {
     "data": {
      "text/html": [
       "<div>\n",
       "<style scoped>\n",
       "    .dataframe tbody tr th:only-of-type {\n",
       "        vertical-align: middle;\n",
       "    }\n",
       "\n",
       "    .dataframe tbody tr th {\n",
       "        vertical-align: top;\n",
       "    }\n",
       "\n",
       "    .dataframe thead th {\n",
       "        text-align: right;\n",
       "    }\n",
       "</style>\n",
       "<table border=\"1\" class=\"dataframe\">\n",
       "  <thead>\n",
       "    <tr style=\"text-align: right;\">\n",
       "      <th></th>\n",
       "      <th>fixed acidity</th>\n",
       "      <th>volatile acidity</th>\n",
       "      <th>citric acid</th>\n",
       "      <th>residual sugar</th>\n",
       "      <th>chlorides</th>\n",
       "      <th>free sulfur dioxide</th>\n",
       "      <th>total sulfur dioxide</th>\n",
       "      <th>density</th>\n",
       "      <th>pH</th>\n",
       "      <th>sulphates</th>\n",
       "      <th>alcohol</th>\n",
       "      <th>quality</th>\n",
       "      <th>winetype</th>\n",
       "    </tr>\n",
       "  </thead>\n",
       "  <tbody>\n",
       "    <tr>\n",
       "      <th>0</th>\n",
       "      <td>7.4</td>\n",
       "      <td>0.70</td>\n",
       "      <td>0.00</td>\n",
       "      <td>1.9</td>\n",
       "      <td>0.076</td>\n",
       "      <td>11.0</td>\n",
       "      <td>34.0</td>\n",
       "      <td>0.9978</td>\n",
       "      <td>3.51</td>\n",
       "      <td>0.56</td>\n",
       "      <td>9.4</td>\n",
       "      <td>5</td>\n",
       "      <td>1</td>\n",
       "    </tr>\n",
       "    <tr>\n",
       "      <th>1</th>\n",
       "      <td>7.8</td>\n",
       "      <td>0.88</td>\n",
       "      <td>0.00</td>\n",
       "      <td>2.6</td>\n",
       "      <td>0.098</td>\n",
       "      <td>25.0</td>\n",
       "      <td>67.0</td>\n",
       "      <td>0.9968</td>\n",
       "      <td>3.20</td>\n",
       "      <td>0.68</td>\n",
       "      <td>9.8</td>\n",
       "      <td>5</td>\n",
       "      <td>1</td>\n",
       "    </tr>\n",
       "    <tr>\n",
       "      <th>2</th>\n",
       "      <td>7.8</td>\n",
       "      <td>0.76</td>\n",
       "      <td>0.04</td>\n",
       "      <td>2.3</td>\n",
       "      <td>0.092</td>\n",
       "      <td>15.0</td>\n",
       "      <td>54.0</td>\n",
       "      <td>0.9970</td>\n",
       "      <td>3.26</td>\n",
       "      <td>0.65</td>\n",
       "      <td>9.8</td>\n",
       "      <td>5</td>\n",
       "      <td>1</td>\n",
       "    </tr>\n",
       "    <tr>\n",
       "      <th>3</th>\n",
       "      <td>11.2</td>\n",
       "      <td>0.28</td>\n",
       "      <td>0.56</td>\n",
       "      <td>1.9</td>\n",
       "      <td>0.075</td>\n",
       "      <td>17.0</td>\n",
       "      <td>60.0</td>\n",
       "      <td>0.9980</td>\n",
       "      <td>3.16</td>\n",
       "      <td>0.58</td>\n",
       "      <td>9.8</td>\n",
       "      <td>6</td>\n",
       "      <td>1</td>\n",
       "    </tr>\n",
       "    <tr>\n",
       "      <th>4</th>\n",
       "      <td>7.4</td>\n",
       "      <td>0.70</td>\n",
       "      <td>0.00</td>\n",
       "      <td>1.9</td>\n",
       "      <td>0.076</td>\n",
       "      <td>11.0</td>\n",
       "      <td>34.0</td>\n",
       "      <td>0.9978</td>\n",
       "      <td>3.51</td>\n",
       "      <td>0.56</td>\n",
       "      <td>9.4</td>\n",
       "      <td>5</td>\n",
       "      <td>1</td>\n",
       "    </tr>\n",
       "  </tbody>\n",
       "</table>\n",
       "</div>"
      ],
      "text/plain": [
       "   fixed acidity  volatile acidity  citric acid  residual sugar  chlorides  \\\n",
       "0            7.4              0.70         0.00             1.9      0.076   \n",
       "1            7.8              0.88         0.00             2.6      0.098   \n",
       "2            7.8              0.76         0.04             2.3      0.092   \n",
       "3           11.2              0.28         0.56             1.9      0.075   \n",
       "4            7.4              0.70         0.00             1.9      0.076   \n",
       "\n",
       "   free sulfur dioxide  total sulfur dioxide  density    pH  sulphates  \\\n",
       "0                 11.0                  34.0   0.9978  3.51       0.56   \n",
       "1                 25.0                  67.0   0.9968  3.20       0.68   \n",
       "2                 15.0                  54.0   0.9970  3.26       0.65   \n",
       "3                 17.0                  60.0   0.9980  3.16       0.58   \n",
       "4                 11.0                  34.0   0.9978  3.51       0.56   \n",
       "\n",
       "   alcohol  quality  winetype  \n",
       "0      9.4        5         1  \n",
       "1      9.8        5         1  \n",
       "2      9.8        5         1  \n",
       "3      9.8        6         1  \n",
       "4      9.4        5         1  "
      ]
     },
     "execution_count": 197,
     "metadata": {},
     "output_type": "execute_result"
    }
   ],
   "source": [
    "red = r.assign(winetype=1)\n",
    "red.head()"
   ]
  },
  {
   "cell_type": "markdown",
   "id": "c0170fa2",
   "metadata": {
    "id": "c0170fa2"
   },
   "source": [
    "white = w.assign(winetype=0)\n",
    "\n",
    "white.head()"
   ]
  },
  {
   "cell_type": "code",
   "execution_count": 198,
   "id": "36cde41e",
   "metadata": {
    "colab": {
     "base_uri": "https://localhost:8080/",
     "height": 285
    },
    "id": "36cde41e",
    "outputId": "b9ae87a2-eedb-4647-c281-67824b93827d"
   },
   "outputs": [
    {
     "data": {
      "text/html": [
       "<div>\n",
       "<style scoped>\n",
       "    .dataframe tbody tr th:only-of-type {\n",
       "        vertical-align: middle;\n",
       "    }\n",
       "\n",
       "    .dataframe tbody tr th {\n",
       "        vertical-align: top;\n",
       "    }\n",
       "\n",
       "    .dataframe thead th {\n",
       "        text-align: right;\n",
       "    }\n",
       "</style>\n",
       "<table border=\"1\" class=\"dataframe\">\n",
       "  <thead>\n",
       "    <tr style=\"text-align: right;\">\n",
       "      <th></th>\n",
       "      <th>fixed acidity</th>\n",
       "      <th>volatile acidity</th>\n",
       "      <th>citric acid</th>\n",
       "      <th>residual sugar</th>\n",
       "      <th>chlorides</th>\n",
       "      <th>free sulfur dioxide</th>\n",
       "      <th>total sulfur dioxide</th>\n",
       "      <th>density</th>\n",
       "      <th>pH</th>\n",
       "      <th>sulphates</th>\n",
       "      <th>alcohol</th>\n",
       "      <th>quality</th>\n",
       "      <th>winetype</th>\n",
       "    </tr>\n",
       "  </thead>\n",
       "  <tbody>\n",
       "    <tr>\n",
       "      <th>0</th>\n",
       "      <td>7.0</td>\n",
       "      <td>0.27</td>\n",
       "      <td>0.36</td>\n",
       "      <td>20.7</td>\n",
       "      <td>0.045</td>\n",
       "      <td>45.0</td>\n",
       "      <td>170.0</td>\n",
       "      <td>1.0010</td>\n",
       "      <td>3.00</td>\n",
       "      <td>0.45</td>\n",
       "      <td>8.8</td>\n",
       "      <td>6</td>\n",
       "      <td>0</td>\n",
       "    </tr>\n",
       "    <tr>\n",
       "      <th>1</th>\n",
       "      <td>6.3</td>\n",
       "      <td>0.30</td>\n",
       "      <td>0.34</td>\n",
       "      <td>1.6</td>\n",
       "      <td>0.049</td>\n",
       "      <td>14.0</td>\n",
       "      <td>132.0</td>\n",
       "      <td>0.9940</td>\n",
       "      <td>3.30</td>\n",
       "      <td>0.49</td>\n",
       "      <td>9.5</td>\n",
       "      <td>6</td>\n",
       "      <td>0</td>\n",
       "    </tr>\n",
       "    <tr>\n",
       "      <th>2</th>\n",
       "      <td>8.1</td>\n",
       "      <td>0.28</td>\n",
       "      <td>0.40</td>\n",
       "      <td>6.9</td>\n",
       "      <td>0.050</td>\n",
       "      <td>30.0</td>\n",
       "      <td>97.0</td>\n",
       "      <td>0.9951</td>\n",
       "      <td>3.26</td>\n",
       "      <td>0.44</td>\n",
       "      <td>10.1</td>\n",
       "      <td>6</td>\n",
       "      <td>0</td>\n",
       "    </tr>\n",
       "    <tr>\n",
       "      <th>3</th>\n",
       "      <td>7.2</td>\n",
       "      <td>0.23</td>\n",
       "      <td>0.32</td>\n",
       "      <td>8.5</td>\n",
       "      <td>0.058</td>\n",
       "      <td>47.0</td>\n",
       "      <td>186.0</td>\n",
       "      <td>0.9956</td>\n",
       "      <td>3.19</td>\n",
       "      <td>0.40</td>\n",
       "      <td>9.9</td>\n",
       "      <td>6</td>\n",
       "      <td>0</td>\n",
       "    </tr>\n",
       "    <tr>\n",
       "      <th>4</th>\n",
       "      <td>7.2</td>\n",
       "      <td>0.23</td>\n",
       "      <td>0.32</td>\n",
       "      <td>8.5</td>\n",
       "      <td>0.058</td>\n",
       "      <td>47.0</td>\n",
       "      <td>186.0</td>\n",
       "      <td>0.9956</td>\n",
       "      <td>3.19</td>\n",
       "      <td>0.40</td>\n",
       "      <td>9.9</td>\n",
       "      <td>6</td>\n",
       "      <td>0</td>\n",
       "    </tr>\n",
       "  </tbody>\n",
       "</table>\n",
       "</div>"
      ],
      "text/plain": [
       "   fixed acidity  volatile acidity  citric acid  residual sugar  chlorides  \\\n",
       "0            7.0              0.27         0.36            20.7      0.045   \n",
       "1            6.3              0.30         0.34             1.6      0.049   \n",
       "2            8.1              0.28         0.40             6.9      0.050   \n",
       "3            7.2              0.23         0.32             8.5      0.058   \n",
       "4            7.2              0.23         0.32             8.5      0.058   \n",
       "\n",
       "   free sulfur dioxide  total sulfur dioxide  density    pH  sulphates  \\\n",
       "0                 45.0                 170.0   1.0010  3.00       0.45   \n",
       "1                 14.0                 132.0   0.9940  3.30       0.49   \n",
       "2                 30.0                  97.0   0.9951  3.26       0.44   \n",
       "3                 47.0                 186.0   0.9956  3.19       0.40   \n",
       "4                 47.0                 186.0   0.9956  3.19       0.40   \n",
       "\n",
       "   alcohol  quality  winetype  \n",
       "0      8.8        6         0  \n",
       "1      9.5        6         0  \n",
       "2     10.1        6         0  \n",
       "3      9.9        6         0  \n",
       "4      9.9        6         0  "
      ]
     },
     "execution_count": 198,
     "metadata": {},
     "output_type": "execute_result"
    }
   ],
   "source": [
    "white = w.assign(winetype=0)\n",
    "white.head()"
   ]
  },
  {
   "cell_type": "markdown",
   "id": "029b2d4c",
   "metadata": {
    "id": "029b2d4c"
   },
   "source": [
    "mix = [white, red]\n",
    "\n",
    "wines = pd.concat(mix)\n",
    "\n",
    "wines.head()"
   ]
  },
  {
   "cell_type": "code",
   "execution_count": 199,
   "id": "c5133ff4",
   "metadata": {
    "id": "c5133ff4"
   },
   "outputs": [],
   "source": [
    "mix = [white, red]"
   ]
  },
  {
   "cell_type": "code",
   "execution_count": 200,
   "id": "1154b834",
   "metadata": {
    "id": "1154b834"
   },
   "outputs": [],
   "source": [
    "wines = pd.concat(mix)"
   ]
  },
  {
   "cell_type": "code",
   "execution_count": 201,
   "id": "f680005e",
   "metadata": {
    "colab": {
     "base_uri": "https://localhost:8080/",
     "height": 285
    },
    "id": "f680005e",
    "outputId": "eadd4ebc-431f-4a11-dad7-40ff7ebd12f2"
   },
   "outputs": [
    {
     "data": {
      "text/html": [
       "<div>\n",
       "<style scoped>\n",
       "    .dataframe tbody tr th:only-of-type {\n",
       "        vertical-align: middle;\n",
       "    }\n",
       "\n",
       "    .dataframe tbody tr th {\n",
       "        vertical-align: top;\n",
       "    }\n",
       "\n",
       "    .dataframe thead th {\n",
       "        text-align: right;\n",
       "    }\n",
       "</style>\n",
       "<table border=\"1\" class=\"dataframe\">\n",
       "  <thead>\n",
       "    <tr style=\"text-align: right;\">\n",
       "      <th></th>\n",
       "      <th>fixed acidity</th>\n",
       "      <th>volatile acidity</th>\n",
       "      <th>citric acid</th>\n",
       "      <th>residual sugar</th>\n",
       "      <th>chlorides</th>\n",
       "      <th>free sulfur dioxide</th>\n",
       "      <th>total sulfur dioxide</th>\n",
       "      <th>density</th>\n",
       "      <th>pH</th>\n",
       "      <th>sulphates</th>\n",
       "      <th>alcohol</th>\n",
       "      <th>quality</th>\n",
       "      <th>winetype</th>\n",
       "    </tr>\n",
       "  </thead>\n",
       "  <tbody>\n",
       "    <tr>\n",
       "      <th>0</th>\n",
       "      <td>7.0</td>\n",
       "      <td>0.27</td>\n",
       "      <td>0.36</td>\n",
       "      <td>20.7</td>\n",
       "      <td>0.045</td>\n",
       "      <td>45.0</td>\n",
       "      <td>170.0</td>\n",
       "      <td>1.0010</td>\n",
       "      <td>3.00</td>\n",
       "      <td>0.45</td>\n",
       "      <td>8.8</td>\n",
       "      <td>6</td>\n",
       "      <td>0</td>\n",
       "    </tr>\n",
       "    <tr>\n",
       "      <th>1</th>\n",
       "      <td>6.3</td>\n",
       "      <td>0.30</td>\n",
       "      <td>0.34</td>\n",
       "      <td>1.6</td>\n",
       "      <td>0.049</td>\n",
       "      <td>14.0</td>\n",
       "      <td>132.0</td>\n",
       "      <td>0.9940</td>\n",
       "      <td>3.30</td>\n",
       "      <td>0.49</td>\n",
       "      <td>9.5</td>\n",
       "      <td>6</td>\n",
       "      <td>0</td>\n",
       "    </tr>\n",
       "    <tr>\n",
       "      <th>2</th>\n",
       "      <td>8.1</td>\n",
       "      <td>0.28</td>\n",
       "      <td>0.40</td>\n",
       "      <td>6.9</td>\n",
       "      <td>0.050</td>\n",
       "      <td>30.0</td>\n",
       "      <td>97.0</td>\n",
       "      <td>0.9951</td>\n",
       "      <td>3.26</td>\n",
       "      <td>0.44</td>\n",
       "      <td>10.1</td>\n",
       "      <td>6</td>\n",
       "      <td>0</td>\n",
       "    </tr>\n",
       "    <tr>\n",
       "      <th>3</th>\n",
       "      <td>7.2</td>\n",
       "      <td>0.23</td>\n",
       "      <td>0.32</td>\n",
       "      <td>8.5</td>\n",
       "      <td>0.058</td>\n",
       "      <td>47.0</td>\n",
       "      <td>186.0</td>\n",
       "      <td>0.9956</td>\n",
       "      <td>3.19</td>\n",
       "      <td>0.40</td>\n",
       "      <td>9.9</td>\n",
       "      <td>6</td>\n",
       "      <td>0</td>\n",
       "    </tr>\n",
       "    <tr>\n",
       "      <th>4</th>\n",
       "      <td>7.2</td>\n",
       "      <td>0.23</td>\n",
       "      <td>0.32</td>\n",
       "      <td>8.5</td>\n",
       "      <td>0.058</td>\n",
       "      <td>47.0</td>\n",
       "      <td>186.0</td>\n",
       "      <td>0.9956</td>\n",
       "      <td>3.19</td>\n",
       "      <td>0.40</td>\n",
       "      <td>9.9</td>\n",
       "      <td>6</td>\n",
       "      <td>0</td>\n",
       "    </tr>\n",
       "  </tbody>\n",
       "</table>\n",
       "</div>"
      ],
      "text/plain": [
       "   fixed acidity  volatile acidity  citric acid  residual sugar  chlorides  \\\n",
       "0            7.0              0.27         0.36            20.7      0.045   \n",
       "1            6.3              0.30         0.34             1.6      0.049   \n",
       "2            8.1              0.28         0.40             6.9      0.050   \n",
       "3            7.2              0.23         0.32             8.5      0.058   \n",
       "4            7.2              0.23         0.32             8.5      0.058   \n",
       "\n",
       "   free sulfur dioxide  total sulfur dioxide  density    pH  sulphates  \\\n",
       "0                 45.0                 170.0   1.0010  3.00       0.45   \n",
       "1                 14.0                 132.0   0.9940  3.30       0.49   \n",
       "2                 30.0                  97.0   0.9951  3.26       0.44   \n",
       "3                 47.0                 186.0   0.9956  3.19       0.40   \n",
       "4                 47.0                 186.0   0.9956  3.19       0.40   \n",
       "\n",
       "   alcohol  quality  winetype  \n",
       "0      8.8        6         0  \n",
       "1      9.5        6         0  \n",
       "2     10.1        6         0  \n",
       "3      9.9        6         0  \n",
       "4      9.9        6         0  "
      ]
     },
     "execution_count": 201,
     "metadata": {},
     "output_type": "execute_result"
    }
   ],
   "source": [
    "wines.head()"
   ]
  },
  {
   "cell_type": "markdown",
   "id": "8c6d0304",
   "metadata": {
    "id": "8c6d0304"
   },
   "source": [
    "**2.1 Visualize the univariate distribution of the target feature and each of the three explanatory variables that you think are likely to have a relationship with the target feature.**"
   ]
  },
  {
   "cell_type": "markdown",
   "id": "9adc0eea",
   "metadata": {
    "id": "9adc0eea"
   },
   "source": [
    "import matplotlib.pyplot as plt\n",
    "\n",
    "sns.boxplot(x='winetype', y='fixed acidity', data=wines)\n",
    "\n",
    "sns.boxplot(x='winetype', y='citric acid', data=wines)\n",
    "\n",
    "sns.boxplot(x='winetype', y='total sulfur dioxide', data=wines)"
   ]
  },
  {
   "cell_type": "code",
   "execution_count": 202,
   "id": "72bd1476",
   "metadata": {
    "id": "72bd1476"
   },
   "outputs": [],
   "source": [
    "import matplotlib.pyplot as plt"
   ]
  },
  {
   "cell_type": "code",
   "execution_count": 203,
   "id": "951534a9",
   "metadata": {
    "colab": {
     "base_uri": "https://localhost:8080/",
     "height": 297
    },
    "id": "951534a9",
    "outputId": "181a1a07-3f17-4233-e1df-c507ca64de57"
   },
   "outputs": [
    {
     "data": {
      "text/plain": [
       "<AxesSubplot:xlabel='winetype', ylabel='fixed acidity'>"
      ]
     },
     "execution_count": 203,
     "metadata": {},
     "output_type": "execute_result"
    },
    {
     "data": {
      "image/png": "[encoded data removed]",
      "text/plain": [
       "<Figure size 432x288 with 1 Axes>"
      ]
     },
     "metadata": {
      "needs_background": "light"
     },
     "output_type": "display_data"
    }
   ],
   "source": [
    "sns.boxplot(x='winetype', y='fixed acidity', data=wines)"
   ]
  },
  {
   "cell_type": "code",
   "execution_count": 204,
   "id": "403fe76f",
   "metadata": {
    "colab": {
     "base_uri": "https://localhost:8080/",
     "height": 297
    },
    "id": "403fe76f",
    "outputId": "77041ae5-ec62-4ccc-983a-e7d4b72412db"
   },
   "outputs": [
    {
     "data": {
      "text/plain": [
       "<AxesSubplot:xlabel='winetype', ylabel='citric acid'>"
      ]
     },
     "execution_count": 204,
     "metadata": {},
     "output_type": "execute_result"
    },
    {
     "data": {
      "image/png": "[encoded data removed]",
      "text/plain": [
       "<Figure size 432x288 with 1 Axes>"
      ]
     },
     "metadata": {
      "needs_background": "light"
     },
     "output_type": "display_data"
    }
   ],
   "source": [
    "sns.boxplot(x='winetype', y='citric acid', data=wines)"
   ]
  },
  {
   "cell_type": "code",
   "execution_count": 205,
   "id": "bf4c3394",
   "metadata": {
    "colab": {
     "base_uri": "https://localhost:8080/",
     "height": 297
    },
    "id": "bf4c3394",
    "outputId": "7dd413ad-85cc-4643-b00a-7af2b196c496"
   },
   "outputs": [
    {
     "data": {
      "text/plain": [
       "<AxesSubplot:xlabel='winetype', ylabel='total sulfur dioxide'>"
      ]
     },
     "execution_count": 205,
     "metadata": {},
     "output_type": "execute_result"
    },
    {
     "data": {
      "image/png": "[encoded data removed]",
      "text/plain": [
       "<Figure size 432x288 with 1 Axes>"
      ]
     },
     "metadata": {
      "needs_background": "light"
     },
     "output_type": "display_data"
    }
   ],
   "source": [
    "sns.boxplot(x='winetype', y='total sulfur dioxide', data=wines)"
   ]
  },
  {
   "cell_type": "markdown",
   "id": "7487f5e9",
   "metadata": {
    "id": "7487f5e9"
   },
   "source": [
    "**2.2 Split data into training and test set.**"
   ]
  },
  {
   "cell_type": "markdown",
   "id": "9e3ffece",
   "metadata": {
    "id": "9e3ffece"
   },
   "source": [
    "from sklearn.model_selection import train_test_split\n",
    "\n",
    "wines = pd.concat(mix)\n",
    "\n",
    "y = wines['winetype']\n",
    "\n",
    "X = wines.loc[:, wines.columns != 'winetype']\n",
    "\n",
    "X_train, X_test, y_train, y_test = train_test_split(X, y, random_state=42)\n",
    "\n",
    "X.head()"
   ]
  },
  {
   "cell_type": "code",
   "execution_count": 206,
   "id": "e230ba27",
   "metadata": {
    "colab": {
     "base_uri": "https://localhost:8080/",
     "height": 267
    },
    "id": "e230ba27",
    "outputId": "226d5a41-1426-4e3e-d89a-d825d859f88f"
   },
   "outputs": [
    {
     "data": {
      "text/html": [
       "<div>\n",
       "<style scoped>\n",
       "    .dataframe tbody tr th:only-of-type {\n",
       "        vertical-align: middle;\n",
       "    }\n",
       "\n",
       "    .dataframe tbody tr th {\n",
       "        vertical-align: top;\n",
       "    }\n",
       "\n",
       "    .dataframe thead th {\n",
       "        text-align: right;\n",
       "    }\n",
       "</style>\n",
       "<table border=\"1\" class=\"dataframe\">\n",
       "  <thead>\n",
       "    <tr style=\"text-align: right;\">\n",
       "      <th></th>\n",
       "      <th>fixed acidity</th>\n",
       "      <th>volatile acidity</th>\n",
       "      <th>citric acid</th>\n",
       "      <th>residual sugar</th>\n",
       "      <th>chlorides</th>\n",
       "      <th>free sulfur dioxide</th>\n",
       "      <th>total sulfur dioxide</th>\n",
       "      <th>density</th>\n",
       "      <th>pH</th>\n",
       "      <th>sulphates</th>\n",
       "      <th>alcohol</th>\n",
       "      <th>quality</th>\n",
       "    </tr>\n",
       "  </thead>\n",
       "  <tbody>\n",
       "    <tr>\n",
       "      <th>0</th>\n",
       "      <td>7.0</td>\n",
       "      <td>0.27</td>\n",
       "      <td>0.36</td>\n",
       "      <td>20.7</td>\n",
       "      <td>0.045</td>\n",
       "      <td>45.0</td>\n",
       "      <td>170.0</td>\n",
       "      <td>1.0010</td>\n",
       "      <td>3.00</td>\n",
       "      <td>0.45</td>\n",
       "      <td>8.8</td>\n",
       "      <td>6</td>\n",
       "    </tr>\n",
       "    <tr>\n",
       "      <th>1</th>\n",
       "      <td>6.3</td>\n",
       "      <td>0.30</td>\n",
       "      <td>0.34</td>\n",
       "      <td>1.6</td>\n",
       "      <td>0.049</td>\n",
       "      <td>14.0</td>\n",
       "      <td>132.0</td>\n",
       "      <td>0.9940</td>\n",
       "      <td>3.30</td>\n",
       "      <td>0.49</td>\n",
       "      <td>9.5</td>\n",
       "      <td>6</td>\n",
       "    </tr>\n",
       "    <tr>\n",
       "      <th>2</th>\n",
       "      <td>8.1</td>\n",
       "      <td>0.28</td>\n",
       "      <td>0.40</td>\n",
       "      <td>6.9</td>\n",
       "      <td>0.050</td>\n",
       "      <td>30.0</td>\n",
       "      <td>97.0</td>\n",
       "      <td>0.9951</td>\n",
       "      <td>3.26</td>\n",
       "      <td>0.44</td>\n",
       "      <td>10.1</td>\n",
       "      <td>6</td>\n",
       "    </tr>\n",
       "    <tr>\n",
       "      <th>3</th>\n",
       "      <td>7.2</td>\n",
       "      <td>0.23</td>\n",
       "      <td>0.32</td>\n",
       "      <td>8.5</td>\n",
       "      <td>0.058</td>\n",
       "      <td>47.0</td>\n",
       "      <td>186.0</td>\n",
       "      <td>0.9956</td>\n",
       "      <td>3.19</td>\n",
       "      <td>0.40</td>\n",
       "      <td>9.9</td>\n",
       "      <td>6</td>\n",
       "    </tr>\n",
       "    <tr>\n",
       "      <th>4</th>\n",
       "      <td>7.2</td>\n",
       "      <td>0.23</td>\n",
       "      <td>0.32</td>\n",
       "      <td>8.5</td>\n",
       "      <td>0.058</td>\n",
       "      <td>47.0</td>\n",
       "      <td>186.0</td>\n",
       "      <td>0.9956</td>\n",
       "      <td>3.19</td>\n",
       "      <td>0.40</td>\n",
       "      <td>9.9</td>\n",
       "      <td>6</td>\n",
       "    </tr>\n",
       "  </tbody>\n",
       "</table>\n",
       "</div>"
      ],
      "text/plain": [
       "   fixed acidity  volatile acidity  citric acid  residual sugar  chlorides  \\\n",
       "0            7.0              0.27         0.36            20.7      0.045   \n",
       "1            6.3              0.30         0.34             1.6      0.049   \n",
       "2            8.1              0.28         0.40             6.9      0.050   \n",
       "3            7.2              0.23         0.32             8.5      0.058   \n",
       "4            7.2              0.23         0.32             8.5      0.058   \n",
       "\n",
       "   free sulfur dioxide  total sulfur dioxide  density    pH  sulphates  \\\n",
       "0                 45.0                 170.0   1.0010  3.00       0.45   \n",
       "1                 14.0                 132.0   0.9940  3.30       0.49   \n",
       "2                 30.0                  97.0   0.9951  3.26       0.44   \n",
       "3                 47.0                 186.0   0.9956  3.19       0.40   \n",
       "4                 47.0                 186.0   0.9956  3.19       0.40   \n",
       "\n",
       "   alcohol  quality  \n",
       "0      8.8        6  \n",
       "1      9.5        6  \n",
       "2     10.1        6  \n",
       "3      9.9        6  \n",
       "4      9.9        6  "
      ]
     },
     "execution_count": 206,
     "metadata": {},
     "output_type": "execute_result"
    }
   ],
   "source": [
    "from sklearn.model_selection import train_test_split\n",
    "wines = pd.concat(mix)\n",
    "y = wines['winetype']\n",
    "X = wines.loc[:, wines.columns != 'winetype']\n",
    "\n",
    "X_train, X_test, y_train, y_test = train_test_split(X, y, random_state=42)\n",
    "X.head()"
   ]
  },
  {
   "cell_type": "markdown",
   "id": "e47e45dc",
   "metadata": {
    "id": "e47e45dc"
   },
   "source": [
    "**Build models that evaluate the relationship between all available X variables in the dataset and the target variable.**"
   ]
  },
  {
   "cell_type": "markdown",
   "id": "9e49d282",
   "metadata": {
    "id": "9e49d282"
   },
   "source": [
    "**Evaluate Logistic Regression**"
   ]
  },
  {
   "cell_type": "markdown",
   "id": "b7caef40",
   "metadata": {
    "id": "b7caef40"
   },
   "source": [
    "import warnings\n",
    "\n",
    "warnings.simplefilter(action='ignore', category=FutureWarning)\n",
    "\n",
    "from sklearn.exceptions import DataConversionWarning\n",
    "\n",
    "warnings.filterwarnings(action='ignore', category=DataConversionWarning)\n",
    "\n",
    "from sklearn.linear_model import LogisticRegression\n",
    "\n",
    "logreg = LogisticRegression().fit(X_train, y_train)\n",
    "\n",
    "print(\"LOGISTIC REGRESSION (UNSCALED DATA)\")\n",
    "\n",
    "print(\"Training set score: {:.2f}\".format(logreg.score(X_train, y_train)))\n",
    "\n",
    "print(\"Test set score: {:.2f}\".format(logreg.score(X_test, y_test))) \n",
    "\n",
    "print(\"Mean Cross Validation, KFold: {:.2f}\".format(np.mean(cross_val_score(logreg, X_train, y_train, cv=kfold))))\n",
    "\n",
    "logreg_predicted_vals = logreg.predict(X_test)\n",
    "\n",
    "logreg_coef = pd.DataFrame(data=logreg.coef_, columns=X.columns, index=['Logistic Regression Coefficients'])\n",
    "\n",
    "logreg_coef.head()"
   ]
  },
  {
   "cell_type": "code",
   "execution_count": 223,
   "id": "17deece9",
   "metadata": {
    "id": "17deece9"
   },
   "outputs": [],
   "source": [
    "import warnings\n",
    "warnings.simplefilter(action='ignore', category=FutureWarning)\n",
    "\n",
    "from sklearn.exceptions import DataConversionWarning\n",
    "warnings.filterwarnings(action='ignore', category=DataConversionWarning)"
   ]
  },
  {
   "cell_type": "code",
   "execution_count": 224,
   "id": "19a133f0",
   "metadata": {
    "colab": {
     "base_uri": "https://localhost:8080/",
     "height": 1000
    },
    "id": "19a133f0",
    "outputId": "d15bc587-2d96-48cf-b93f-07213a579756"
   },
   "outputs": [
    {
     "name": "stderr",
     "output_type": "stream",
     "text": [
      "/Users/hujiayi/opt/anaconda3/lib/python3.9/site-packages/sklearn/linear_model/_logistic.py:763: ConvergenceWarning: lbfgs failed to converge (status=1):\n",
      "STOP: TOTAL NO. of ITERATIONS REACHED LIMIT.\n",
      "\n",
      "Increase the number of iterations (max_iter) or scale the data as shown in:\n",
      "    https://scikit-learn.org/stable/modules/preprocessing.html\n",
      "Please also refer to the documentation for alternative solver options:\n",
      "    https://scikit-learn.org/stable/modules/linear_model.html#logistic-regression\n",
      "  n_iter_i = _check_optimize_result(\n",
      "/Users/hujiayi/opt/anaconda3/lib/python3.9/site-packages/sklearn/linear_model/_logistic.py:763: ConvergenceWarning: lbfgs failed to converge (status=1):\n",
      "STOP: TOTAL NO. of ITERATIONS REACHED LIMIT.\n",
      "\n",
      "Increase the number of iterations (max_iter) or scale the data as shown in:\n",
      "    https://scikit-learn.org/stable/modules/preprocessing.html\n",
      "Please also refer to the documentation for alternative solver options:\n",
      "    https://scikit-learn.org/stable/modules/linear_model.html#logistic-regression\n",
      "  n_iter_i = _check_optimize_result(\n",
      "/Users/hujiayi/opt/anaconda3/lib/python3.9/site-packages/sklearn/linear_model/_logistic.py:763: ConvergenceWarning: lbfgs failed to converge (status=1):\n",
      "STOP: TOTAL NO. of ITERATIONS REACHED LIMIT.\n",
      "\n",
      "Increase the number of iterations (max_iter) or scale the data as shown in:\n",
      "    https://scikit-learn.org/stable/modules/preprocessing.html\n",
      "Please also refer to the documentation for alternative solver options:\n",
      "    https://scikit-learn.org/stable/modules/linear_model.html#logistic-regression\n",
      "  n_iter_i = _check_optimize_result(\n",
      "/Users/hujiayi/opt/anaconda3/lib/python3.9/site-packages/sklearn/linear_model/_logistic.py:763: ConvergenceWarning: lbfgs failed to converge (status=1):\n",
      "STOP: TOTAL NO. of ITERATIONS REACHED LIMIT.\n",
      "\n",
      "Increase the number of iterations (max_iter) or scale the data as shown in:\n",
      "    https://scikit-learn.org/stable/modules/preprocessing.html\n",
      "Please also refer to the documentation for alternative solver options:\n",
      "    https://scikit-learn.org/stable/modules/linear_model.html#logistic-regression\n",
      "  n_iter_i = _check_optimize_result(\n",
      "/Users/hujiayi/opt/anaconda3/lib/python3.9/site-packages/sklearn/linear_model/_logistic.py:763: ConvergenceWarning: lbfgs failed to converge (status=1):\n",
      "STOP: TOTAL NO. of ITERATIONS REACHED LIMIT.\n",
      "\n",
      "Increase the number of iterations (max_iter) or scale the data as shown in:\n",
      "    https://scikit-learn.org/stable/modules/preprocessing.html\n",
      "Please also refer to the documentation for alternative solver options:\n",
      "    https://scikit-learn.org/stable/modules/linear_model.html#logistic-regression\n",
      "  n_iter_i = _check_optimize_result(\n"
     ]
    },
    {
     "name": "stdout",
     "output_type": "stream",
     "text": [
      "LOGISTIC REGRESSION (UNSCALED DATA)\n",
      "Training set score: 0.98\n",
      "Test set score: 0.97\n",
      "Mean Cross Validation, KFold: 0.98\n"
     ]
    },
    {
     "name": "stderr",
     "output_type": "stream",
     "text": [
      "/Users/hujiayi/opt/anaconda3/lib/python3.9/site-packages/sklearn/linear_model/_logistic.py:763: ConvergenceWarning: lbfgs failed to converge (status=1):\n",
      "STOP: TOTAL NO. of ITERATIONS REACHED LIMIT.\n",
      "\n",
      "Increase the number of iterations (max_iter) or scale the data as shown in:\n",
      "    https://scikit-learn.org/stable/modules/preprocessing.html\n",
      "Please also refer to the documentation for alternative solver options:\n",
      "    https://scikit-learn.org/stable/modules/linear_model.html#logistic-regression\n",
      "  n_iter_i = _check_optimize_result(\n"
     ]
    },
    {
     "data": {
      "text/html": [
       "<div>\n",
       "<style scoped>\n",
       "    .dataframe tbody tr th:only-of-type {\n",
       "        vertical-align: middle;\n",
       "    }\n",
       "\n",
       "    .dataframe tbody tr th {\n",
       "        vertical-align: top;\n",
       "    }\n",
       "\n",
       "    .dataframe thead th {\n",
       "        text-align: right;\n",
       "    }\n",
       "</style>\n",
       "<table border=\"1\" class=\"dataframe\">\n",
       "  <thead>\n",
       "    <tr style=\"text-align: right;\">\n",
       "      <th></th>\n",
       "      <th>fixed acidity</th>\n",
       "      <th>volatile acidity</th>\n",
       "      <th>citric acid</th>\n",
       "      <th>residual sugar</th>\n",
       "      <th>chlorides</th>\n",
       "      <th>free sulfur dioxide</th>\n",
       "      <th>total sulfur dioxide</th>\n",
       "      <th>density</th>\n",
       "      <th>pH</th>\n",
       "      <th>sulphates</th>\n",
       "      <th>alcohol</th>\n",
       "      <th>quality</th>\n",
       "    </tr>\n",
       "  </thead>\n",
       "  <tbody>\n",
       "    <tr>\n",
       "      <th>Logistic Regression Coefficients</th>\n",
       "      <td>0.682544</td>\n",
       "      <td>8.414581</td>\n",
       "      <td>-1.859663</td>\n",
       "      <td>-0.159831</td>\n",
       "      <td>1.280977</td>\n",
       "      <td>0.055272</td>\n",
       "      <td>-0.065317</td>\n",
       "      <td>-1.415481</td>\n",
       "      <td>1.354532</td>\n",
       "      <td>6.600871</td>\n",
       "      <td>-0.79298</td>\n",
       "      <td>-0.083268</td>\n",
       "    </tr>\n",
       "  </tbody>\n",
       "</table>\n",
       "</div>"
      ],
      "text/plain": [
       "                                  fixed acidity  volatile acidity  \\\n",
       "Logistic Regression Coefficients       0.682544          8.414581   \n",
       "\n",
       "                                  citric acid  residual sugar  chlorides  \\\n",
       "Logistic Regression Coefficients    -1.859663       -0.159831   1.280977   \n",
       "\n",
       "                                  free sulfur dioxide  total sulfur dioxide  \\\n",
       "Logistic Regression Coefficients             0.055272             -0.065317   \n",
       "\n",
       "                                   density        pH  sulphates  alcohol  \\\n",
       "Logistic Regression Coefficients -1.415481  1.354532   6.600871 -0.79298   \n",
       "\n",
       "                                   quality  \n",
       "Logistic Regression Coefficients -0.083268  "
      ]
     },
     "execution_count": 224,
     "metadata": {},
     "output_type": "execute_result"
    }
   ],
   "source": [
    "from sklearn.linear_model import LogisticRegression\n",
    "\n",
    "logreg = LogisticRegression().fit(X_train, y_train)\n",
    "\n",
    "print(\"LOGISTIC REGRESSION (UNSCALED DATA)\")\n",
    "print(\"Training set score: {:.2f}\".format(logreg.score(X_train, y_train)))\n",
    "print(\"Test set score: {:.2f}\".format(logreg.score(X_test, y_test))) \n",
    "\n",
    "print(\"Mean Cross Validation, KFold: {:.2f}\".format(np.mean(cross_val_score(logreg, X_train, y_train, cv=kfold))))\n",
    "\n",
    "logreg_predicted_vals = logreg.predict(X_test)\n",
    "\n",
    "logreg_coef = pd.DataFrame(data=logreg.coef_, columns=X.columns, index=['Logistic Regression Coefficients'])\n",
    "logreg_coef.head()"
   ]
  },
  {
   "cell_type": "markdown",
   "id": "7869b686",
   "metadata": {
    "id": "7869b686"
   },
   "source": [
    "**Penalized Logistic Regression**"
   ]
  },
  {
   "cell_type": "markdown",
   "id": "79d6c082",
   "metadata": {
    "id": "79d6c082"
   },
   "source": [
    "pen_logreg = LogisticRegression(penalty = 'l2').fit(X_train, y_train)\n",
    "\n",
    "print(\"PENALIZED LOGISTIC REGRESSION (UNSCALED DATA)\")\n",
    "\n",
    "print(\"Training set score: {:.2f}\".format(pen_logreg.score(X_train, y_train)))\n",
    "\n",
    "print(\"Test set score: {:.2f}\".format(pen_logreg.score(X_test, y_test)))\n",
    "\n",
    "print(\"Mean Cross Validation, KFold: {:.2f}\".format(np.mean(cross_val_score(pen_logreg, X_train, y_train, cv=kfold))))\n",
    "\n",
    "pen_logreg_predicted_vals = pen_logreg.predict(X_test)\n",
    "\n",
    "pen_logreg_coef = pd.DataFrame(data=pen_logreg.coef_, columns=X.columns, index=['Penalized Logistic Regression Coefficients'])\n",
    "\n",
    "c = [logreg_coef, pen_logreg_coef]\n",
    "\n",
    "coefs = pd.concat(c)\n",
    "\n",
    "coefs.head()"
   ]
  },
  {
   "cell_type": "code",
   "execution_count": 222,
   "id": "67bf1ba5",
   "metadata": {
    "colab": {
     "base_uri": "https://localhost:8080/",
     "height": 1000
    },
    "id": "67bf1ba5",
    "outputId": "8c38ecaa-34e0-4d89-8268-de80b9a4a637"
   },
   "outputs": [
    {
     "name": "stderr",
     "output_type": "stream",
     "text": [
      "/Users/hujiayi/opt/anaconda3/lib/python3.9/site-packages/sklearn/linear_model/_logistic.py:763: ConvergenceWarning: lbfgs failed to converge (status=1):\n",
      "STOP: TOTAL NO. of ITERATIONS REACHED LIMIT.\n",
      "\n",
      "Increase the number of iterations (max_iter) or scale the data as shown in:\n",
      "    https://scikit-learn.org/stable/modules/preprocessing.html\n",
      "Please also refer to the documentation for alternative solver options:\n",
      "    https://scikit-learn.org/stable/modules/linear_model.html#logistic-regression\n",
      "  n_iter_i = _check_optimize_result(\n",
      "/Users/hujiayi/opt/anaconda3/lib/python3.9/site-packages/sklearn/linear_model/_logistic.py:763: ConvergenceWarning: lbfgs failed to converge (status=1):\n",
      "STOP: TOTAL NO. of ITERATIONS REACHED LIMIT.\n",
      "\n",
      "Increase the number of iterations (max_iter) or scale the data as shown in:\n",
      "    https://scikit-learn.org/stable/modules/preprocessing.html\n",
      "Please also refer to the documentation for alternative solver options:\n",
      "    https://scikit-learn.org/stable/modules/linear_model.html#logistic-regression\n",
      "  n_iter_i = _check_optimize_result(\n",
      "/Users/hujiayi/opt/anaconda3/lib/python3.9/site-packages/sklearn/linear_model/_logistic.py:763: ConvergenceWarning: lbfgs failed to converge (status=1):\n",
      "STOP: TOTAL NO. of ITERATIONS REACHED LIMIT.\n",
      "\n",
      "Increase the number of iterations (max_iter) or scale the data as shown in:\n",
      "    https://scikit-learn.org/stable/modules/preprocessing.html\n",
      "Please also refer to the documentation for alternative solver options:\n",
      "    https://scikit-learn.org/stable/modules/linear_model.html#logistic-regression\n",
      "  n_iter_i = _check_optimize_result(\n",
      "/Users/hujiayi/opt/anaconda3/lib/python3.9/site-packages/sklearn/linear_model/_logistic.py:763: ConvergenceWarning: lbfgs failed to converge (status=1):\n",
      "STOP: TOTAL NO. of ITERATIONS REACHED LIMIT.\n",
      "\n",
      "Increase the number of iterations (max_iter) or scale the data as shown in:\n",
      "    https://scikit-learn.org/stable/modules/preprocessing.html\n",
      "Please also refer to the documentation for alternative solver options:\n",
      "    https://scikit-learn.org/stable/modules/linear_model.html#logistic-regression\n",
      "  n_iter_i = _check_optimize_result(\n",
      "/Users/hujiayi/opt/anaconda3/lib/python3.9/site-packages/sklearn/linear_model/_logistic.py:763: ConvergenceWarning: lbfgs failed to converge (status=1):\n",
      "STOP: TOTAL NO. of ITERATIONS REACHED LIMIT.\n",
      "\n",
      "Increase the number of iterations (max_iter) or scale the data as shown in:\n",
      "    https://scikit-learn.org/stable/modules/preprocessing.html\n",
      "Please also refer to the documentation for alternative solver options:\n",
      "    https://scikit-learn.org/stable/modules/linear_model.html#logistic-regression\n",
      "  n_iter_i = _check_optimize_result(\n"
     ]
    },
    {
     "name": "stdout",
     "output_type": "stream",
     "text": [
      "PENALIZED LOGISTIC REGRESSION (UNSCALED DATA)\n",
      "Training set score: 0.98\n",
      "Test set score: 0.97\n",
      "Mean Cross Validation, KFold: 0.98\n"
     ]
    },
    {
     "name": "stderr",
     "output_type": "stream",
     "text": [
      "/Users/hujiayi/opt/anaconda3/lib/python3.9/site-packages/sklearn/linear_model/_logistic.py:763: ConvergenceWarning: lbfgs failed to converge (status=1):\n",
      "STOP: TOTAL NO. of ITERATIONS REACHED LIMIT.\n",
      "\n",
      "Increase the number of iterations (max_iter) or scale the data as shown in:\n",
      "    https://scikit-learn.org/stable/modules/preprocessing.html\n",
      "Please also refer to the documentation for alternative solver options:\n",
      "    https://scikit-learn.org/stable/modules/linear_model.html#logistic-regression\n",
      "  n_iter_i = _check_optimize_result(\n"
     ]
    },
    {
     "data": {
      "text/html": [
       "<div>\n",
       "<style scoped>\n",
       "    .dataframe tbody tr th:only-of-type {\n",
       "        vertical-align: middle;\n",
       "    }\n",
       "\n",
       "    .dataframe tbody tr th {\n",
       "        vertical-align: top;\n",
       "    }\n",
       "\n",
       "    .dataframe thead th {\n",
       "        text-align: right;\n",
       "    }\n",
       "</style>\n",
       "<table border=\"1\" class=\"dataframe\">\n",
       "  <thead>\n",
       "    <tr style=\"text-align: right;\">\n",
       "      <th></th>\n",
       "      <th>fixed acidity</th>\n",
       "      <th>volatile acidity</th>\n",
       "      <th>citric acid</th>\n",
       "      <th>residual sugar</th>\n",
       "      <th>chlorides</th>\n",
       "      <th>free sulfur dioxide</th>\n",
       "      <th>total sulfur dioxide</th>\n",
       "      <th>density</th>\n",
       "      <th>pH</th>\n",
       "      <th>sulphates</th>\n",
       "      <th>alcohol</th>\n",
       "      <th>quality</th>\n",
       "    </tr>\n",
       "  </thead>\n",
       "  <tbody>\n",
       "    <tr>\n",
       "      <th>Logistic Regression Coefficients</th>\n",
       "      <td>0.682544</td>\n",
       "      <td>8.414581</td>\n",
       "      <td>-1.859663</td>\n",
       "      <td>-0.159831</td>\n",
       "      <td>1.280977</td>\n",
       "      <td>0.055272</td>\n",
       "      <td>-0.065317</td>\n",
       "      <td>-1.415481</td>\n",
       "      <td>1.354532</td>\n",
       "      <td>6.600871</td>\n",
       "      <td>-0.79298</td>\n",
       "      <td>-0.083268</td>\n",
       "    </tr>\n",
       "    <tr>\n",
       "      <th>Penalized Logistic Regression Coefficients</th>\n",
       "      <td>0.682544</td>\n",
       "      <td>8.414581</td>\n",
       "      <td>-1.859663</td>\n",
       "      <td>-0.159831</td>\n",
       "      <td>1.280977</td>\n",
       "      <td>0.055272</td>\n",
       "      <td>-0.065317</td>\n",
       "      <td>-1.415481</td>\n",
       "      <td>1.354532</td>\n",
       "      <td>6.600871</td>\n",
       "      <td>-0.79298</td>\n",
       "      <td>-0.083268</td>\n",
       "    </tr>\n",
       "  </tbody>\n",
       "</table>\n",
       "</div>"
      ],
      "text/plain": [
       "                                            fixed acidity  volatile acidity  \\\n",
       "Logistic Regression Coefficients                 0.682544          8.414581   \n",
       "Penalized Logistic Regression Coefficients       0.682544          8.414581   \n",
       "\n",
       "                                            citric acid  residual sugar  \\\n",
       "Logistic Regression Coefficients              -1.859663       -0.159831   \n",
       "Penalized Logistic Regression Coefficients    -1.859663       -0.159831   \n",
       "\n",
       "                                            chlorides  free sulfur dioxide  \\\n",
       "Logistic Regression Coefficients             1.280977             0.055272   \n",
       "Penalized Logistic Regression Coefficients   1.280977             0.055272   \n",
       "\n",
       "                                            total sulfur dioxide   density  \\\n",
       "Logistic Regression Coefficients                       -0.065317 -1.415481   \n",
       "Penalized Logistic Regression Coefficients             -0.065317 -1.415481   \n",
       "\n",
       "                                                  pH  sulphates  alcohol  \\\n",
       "Logistic Regression Coefficients            1.354532   6.600871 -0.79298   \n",
       "Penalized Logistic Regression Coefficients  1.354532   6.600871 -0.79298   \n",
       "\n",
       "                                             quality  \n",
       "Logistic Regression Coefficients           -0.083268  \n",
       "Penalized Logistic Regression Coefficients -0.083268  "
      ]
     },
     "execution_count": 222,
     "metadata": {},
     "output_type": "execute_result"
    }
   ],
   "source": [
    "pen_logreg = LogisticRegression(penalty = 'l2').fit(X_train, y_train)\n",
    "\n",
    "print(\"PENALIZED LOGISTIC REGRESSION (UNSCALED DATA)\")\n",
    "print(\"Training set score: {:.2f}\".format(pen_logreg.score(X_train, y_train)))\n",
    "print(\"Test set score: {:.2f}\".format(pen_logreg.score(X_test, y_test)))\n",
    "\n",
    "print(\"Mean Cross Validation, KFold: {:.2f}\".format(np.mean(cross_val_score(pen_logreg, X_train, y_train, cv=kfold))))\n",
    "\n",
    "pen_logreg_predicted_vals = pen_logreg.predict(X_test)\n",
    "\n",
    "pen_logreg_coef = pd.DataFrame(data=pen_logreg.coef_, columns=X.columns, index=['Penalized Logistic Regression Coefficients'])\n",
    "\n",
    "c = [logreg_coef, pen_logreg_coef]\n",
    "coefs = pd.concat(c)\n",
    "coefs.head()"
   ]
  },
  {
   "cell_type": "markdown",
   "id": "2b36c3cd",
   "metadata": {
    "id": "2b36c3cd"
   },
   "source": [
    "**KNN for classification using cross-validation**"
   ]
  },
  {
   "cell_type": "markdown",
   "id": "486e5eb1",
   "metadata": {
    "id": "486e5eb1"
   },
   "source": [
    "from sklearn.neighbors import KNeighborsClassifier\n",
    "\n",
    "knn = KNeighborsClassifier().fit(X_train, y_train)\n",
    "\n",
    "print(\"KNN CLASSIFER (UNSCALED DATA)\")\n",
    "\n",
    "print(\"Training set score: {:.2f}\".format(knn.score(X_train, y_train)))\n",
    "\n",
    "print(\"Test set score: {:.2f}\".format(knn.score(X_test, y_test)))\n",
    "\n",
    "print(\"Mean Cross Validation, KFold: {:.2f}\".format(np.mean(cross_val_score(knn, X_train, y_train, cv=kfold))))\n",
    "\n",
    "y_pred = knn.predict(X_test)"
   ]
  },
  {
   "cell_type": "code",
   "execution_count": 210,
   "id": "1b13c7e0",
   "metadata": {
    "colab": {
     "base_uri": "https://localhost:8080/"
    },
    "id": "1b13c7e0",
    "outputId": "259db9c6-7a4f-44bd-e64d-0549c28d2854"
   },
   "outputs": [
    {
     "name": "stdout",
     "output_type": "stream",
     "text": [
      "KNN CLASSIFER (UNSCALED DATA)\n",
      "Training set score: 0.96\n",
      "Test set score: 0.94\n",
      "Mean Cross Validation, KFold: 0.94\n"
     ]
    }
   ],
   "source": [
    "from sklearn.neighbors import KNeighborsClassifier\n",
    "# Notice that I'm using a Classifier here (as opposed to the Regressor we used in PART 1)\n",
    "\n",
    "knn = KNeighborsClassifier().fit(X_train, y_train)\n",
    "\n",
    "print(\"KNN CLASSIFER (UNSCALED DATA)\")\n",
    "print(\"Training set score: {:.2f}\".format(knn.score(X_train, y_train)))\n",
    "print(\"Test set score: {:.2f}\".format(knn.score(X_test, y_test)))\n",
    "\n",
    "# Kfold Cross Validation\n",
    "print(\"Mean Cross Validation, KFold: {:.2f}\".format(np.mean(cross_val_score(knn, X_train, y_train, cv=kfold))))\n",
    "\n",
    "# Wine type prediction from test set (I'll use this later)\n",
    "y_pred = knn.predict(X_test)"
   ]
  },
  {
   "cell_type": "markdown",
   "id": "5e865d99",
   "metadata": {
    "id": "5e865d99"
   },
   "source": [
    "**How different are the results?**"
   ]
  },
  {
   "cell_type": "markdown",
   "id": "6c5dd486",
   "metadata": {
    "id": "6c5dd486"
   },
   "source": [
    "results = pd.DataFrame()\n",
    "\n",
    "results = results.assign(L2=logreg_predicted_vals)\n",
    "\n",
    "results = results.assign(L1=pen_logreg_predicted_vals)\n",
    "\n",
    "results = results.assign(knn=y_pred)\n",
    "\n",
    "print(\"COMBINATIONS OF PREDICTIONS: LOG REG by PEN LOG REG by KNN\")\n",
    "\n",
    "results.groupby(['L2','L1'])['knn'].count()\n",
    "\n",
    "results.groupby(['L2','knn'])['L1'].count()\n",
    "\n",
    "results.groupby(['knn','L1'])['L2'].count()"
   ]
  },
  {
   "cell_type": "code",
   "execution_count": 211,
   "id": "da65f116",
   "metadata": {
    "colab": {
     "base_uri": "https://localhost:8080/"
    },
    "id": "da65f116",
    "outputId": "14ba33f3-b167-4093-dac0-8678b8803ee7"
   },
   "outputs": [
    {
     "name": "stdout",
     "output_type": "stream",
     "text": [
      "COMBINATIONS OF PREDICTIONS: LOG REG by PEN LOG REG by KNN\n"
     ]
    },
    {
     "data": {
      "text/plain": [
       "L2  L1\n",
       "0   0     1250\n",
       "1   1      375\n",
       "Name: knn, dtype: int64"
      ]
     },
     "execution_count": 211,
     "metadata": {},
     "output_type": "execute_result"
    }
   ],
   "source": [
    "results = pd.DataFrame()\n",
    "results = results.assign(L2=logreg_predicted_vals)\n",
    "results = results.assign(L1=pen_logreg_predicted_vals)\n",
    "results = results.assign(knn=y_pred)\n",
    "\n",
    "print(\"COMBINATIONS OF PREDICTIONS: LOG REG by PEN LOG REG by KNN\")\n",
    "results.groupby(['L2','L1'])['knn'].count()"
   ]
  },
  {
   "cell_type": "code",
   "execution_count": 212,
   "id": "58ace458",
   "metadata": {
    "colab": {
     "base_uri": "https://localhost:8080/"
    },
    "id": "58ace458",
    "outputId": "7bd6db2f-2a18-465b-d550-2deb9e0c8003"
   },
   "outputs": [
    {
     "data": {
      "text/plain": [
       "L2  knn\n",
       "0   0      1214\n",
       "    1        36\n",
       "1   0        55\n",
       "    1       320\n",
       "Name: L1, dtype: int64"
      ]
     },
     "execution_count": 212,
     "metadata": {},
     "output_type": "execute_result"
    }
   ],
   "source": [
    "results.groupby(['L2','knn'])['L1'].count()"
   ]
  },
  {
   "cell_type": "code",
   "execution_count": 213,
   "id": "8b4de9ff",
   "metadata": {
    "colab": {
     "base_uri": "https://localhost:8080/"
    },
    "id": "8b4de9ff",
    "outputId": "e88a1c45-e155-4f4d-8b87-bc47f9ffd99a"
   },
   "outputs": [
    {
     "data": {
      "text/plain": [
       "knn  L1\n",
       "0    0     1214\n",
       "     1       55\n",
       "1    0       36\n",
       "     1      320\n",
       "Name: L2, dtype: int64"
      ]
     },
     "execution_count": 213,
     "metadata": {},
     "output_type": "execute_result"
    }
   ],
   "source": [
    "results.groupby(['knn','L1'])['L2'].count()"
   ]
  },
  {
   "cell_type": "markdown",
   "id": "71914b29",
   "metadata": {
    "id": "71914b29"
   },
   "source": [
    "**How does scaling the data with StandardScaler influence the results?**"
   ]
  },
  {
   "cell_type": "markdown",
   "id": "18a26f36",
   "metadata": {
    "id": "18a26f36"
   },
   "source": [
    "scaler = preprocessing.StandardScaler().fit(X_train)\n",
    "\n",
    "X_train_scaled = scaler.transform(X_train)\n",
    "\n",
    "X_test_scaled = scaler.transform(X_test)"
   ]
  },
  {
   "cell_type": "code",
   "execution_count": 214,
   "id": "75ac03d4",
   "metadata": {
    "id": "75ac03d4"
   },
   "outputs": [],
   "source": [
    "scaler = preprocessing.StandardScaler().fit(X_train)\n",
    "X_train_scaled = scaler.transform(X_train)\n",
    "X_test_scaled = scaler.transform(X_test)"
   ]
  },
  {
   "cell_type": "markdown",
   "id": "b18d018b",
   "metadata": {
    "id": "b18d018b"
   },
   "source": [
    "**Scaled logistic regression**"
   ]
  },
  {
   "cell_type": "markdown",
   "id": "71a0f0bd",
   "metadata": {
    "id": "71a0f0bd"
   },
   "source": [
    "logreg_scaled = LogisticRegression().fit(X_train_scaled, y_train)\n",
    "\n",
    "print(\"LOGISTIC REGRESSION (SCALED DATA)\")\n",
    "\n",
    "print(\"Training set score: {:.2f}\".format(logreg_scaled.score(X_train_scaled, y_train)))\n",
    "\n",
    "print(\"Test set score: {:.2f}\".format(logreg_scaled.score(X_test_scaled, y_test)))\n",
    "\n",
    "print(\"Mean Cross Validation, KFold: {:.2f}\".format(np.mean(cross_val_score(logreg_scaled, X_train_scaled, y_train, cv=kfold))))\n",
    "\n",
    "logreg_scaled_coef = pd.DataFrame(data=logreg_scaled.coef_, columns=X.columns, index=['Scaled Logistic Regression Coefficients'])\n",
    "\n",
    "c2 = [logreg_coef, pen_logreg_coef, logreg_scaled_coef]\n",
    "\n",
    "coefs = pd.concat(c2)\n",
    "\n",
    "coefs.head()"
   ]
  },
  {
   "cell_type": "code",
   "execution_count": 215,
   "id": "b5e25def",
   "metadata": {
    "colab": {
     "base_uri": "https://localhost:8080/",
     "height": 452
    },
    "id": "b5e25def",
    "outputId": "fa84b321-cf26-487f-93a5-6ff4975d9850"
   },
   "outputs": [
    {
     "name": "stdout",
     "output_type": "stream",
     "text": [
      "LOGISTIC REGRESSION (SCALED DATA)\n",
      "Training set score: 0.99\n",
      "Test set score: 0.99\n",
      "Mean Cross Validation, KFold: 0.99\n"
     ]
    },
    {
     "data": {
      "text/html": [
       "<div>\n",
       "<style scoped>\n",
       "    .dataframe tbody tr th:only-of-type {\n",
       "        vertical-align: middle;\n",
       "    }\n",
       "\n",
       "    .dataframe tbody tr th {\n",
       "        vertical-align: top;\n",
       "    }\n",
       "\n",
       "    .dataframe thead th {\n",
       "        text-align: right;\n",
       "    }\n",
       "</style>\n",
       "<table border=\"1\" class=\"dataframe\">\n",
       "  <thead>\n",
       "    <tr style=\"text-align: right;\">\n",
       "      <th></th>\n",
       "      <th>fixed acidity</th>\n",
       "      <th>volatile acidity</th>\n",
       "      <th>citric acid</th>\n",
       "      <th>residual sugar</th>\n",
       "      <th>chlorides</th>\n",
       "      <th>free sulfur dioxide</th>\n",
       "      <th>total sulfur dioxide</th>\n",
       "      <th>density</th>\n",
       "      <th>pH</th>\n",
       "      <th>sulphates</th>\n",
       "      <th>alcohol</th>\n",
       "      <th>quality</th>\n",
       "    </tr>\n",
       "  </thead>\n",
       "  <tbody>\n",
       "    <tr>\n",
       "      <th>Logistic Regression Coefficients</th>\n",
       "      <td>0.682544</td>\n",
       "      <td>8.414581</td>\n",
       "      <td>-1.859663</td>\n",
       "      <td>-0.159831</td>\n",
       "      <td>1.280977</td>\n",
       "      <td>0.055272</td>\n",
       "      <td>-0.065317</td>\n",
       "      <td>-1.415481</td>\n",
       "      <td>1.354532</td>\n",
       "      <td>6.600871</td>\n",
       "      <td>-0.792980</td>\n",
       "      <td>-0.083268</td>\n",
       "    </tr>\n",
       "    <tr>\n",
       "      <th>Penalized Logistic Regression Coefficients</th>\n",
       "      <td>0.682544</td>\n",
       "      <td>8.414581</td>\n",
       "      <td>-1.859663</td>\n",
       "      <td>-0.159831</td>\n",
       "      <td>1.280977</td>\n",
       "      <td>0.055272</td>\n",
       "      <td>-0.065317</td>\n",
       "      <td>-1.415481</td>\n",
       "      <td>1.354532</td>\n",
       "      <td>6.600871</td>\n",
       "      <td>-0.792980</td>\n",
       "      <td>-0.083268</td>\n",
       "    </tr>\n",
       "    <tr>\n",
       "      <th>Scaled Logistic Regression Coefficients</th>\n",
       "      <td>0.355438</td>\n",
       "      <td>1.280869</td>\n",
       "      <td>-0.359597</td>\n",
       "      <td>-3.521214</td>\n",
       "      <td>0.793006</td>\n",
       "      <td>0.928958</td>\n",
       "      <td>-2.918439</td>\n",
       "      <td>3.497433</td>\n",
       "      <td>0.320909</td>\n",
       "      <td>0.635613</td>\n",
       "      <td>1.204437</td>\n",
       "      <td>0.162930</td>\n",
       "    </tr>\n",
       "  </tbody>\n",
       "</table>\n",
       "</div>"
      ],
      "text/plain": [
       "                                            fixed acidity  volatile acidity  \\\n",
       "Logistic Regression Coefficients                 0.682544          8.414581   \n",
       "Penalized Logistic Regression Coefficients       0.682544          8.414581   \n",
       "Scaled Logistic Regression Coefficients          0.355438          1.280869   \n",
       "\n",
       "                                            citric acid  residual sugar  \\\n",
       "Logistic Regression Coefficients              -1.859663       -0.159831   \n",
       "Penalized Logistic Regression Coefficients    -1.859663       -0.159831   \n",
       "Scaled Logistic Regression Coefficients       -0.359597       -3.521214   \n",
       "\n",
       "                                            chlorides  free sulfur dioxide  \\\n",
       "Logistic Regression Coefficients             1.280977             0.055272   \n",
       "Penalized Logistic Regression Coefficients   1.280977             0.055272   \n",
       "Scaled Logistic Regression Coefficients      0.793006             0.928958   \n",
       "\n",
       "                                            total sulfur dioxide   density  \\\n",
       "Logistic Regression Coefficients                       -0.065317 -1.415481   \n",
       "Penalized Logistic Regression Coefficients             -0.065317 -1.415481   \n",
       "Scaled Logistic Regression Coefficients                -2.918439  3.497433   \n",
       "\n",
       "                                                  pH  sulphates   alcohol  \\\n",
       "Logistic Regression Coefficients            1.354532   6.600871 -0.792980   \n",
       "Penalized Logistic Regression Coefficients  1.354532   6.600871 -0.792980   \n",
       "Scaled Logistic Regression Coefficients     0.320909   0.635613  1.204437   \n",
       "\n",
       "                                             quality  \n",
       "Logistic Regression Coefficients           -0.083268  \n",
       "Penalized Logistic Regression Coefficients -0.083268  \n",
       "Scaled Logistic Regression Coefficients     0.162930  "
      ]
     },
     "execution_count": 215,
     "metadata": {},
     "output_type": "execute_result"
    }
   ],
   "source": [
    "logreg_scaled = LogisticRegression().fit(X_train_scaled, y_train)\n",
    "\n",
    "print(\"LOGISTIC REGRESSION (SCALED DATA)\")\n",
    "print(\"Training set score: {:.2f}\".format(logreg_scaled.score(X_train_scaled, y_train)))\n",
    "print(\"Test set score: {:.2f}\".format(logreg_scaled.score(X_test_scaled, y_test)))\n",
    "\n",
    "print(\"Mean Cross Validation, KFold: {:.2f}\".format(np.mean(cross_val_score(logreg_scaled, X_train_scaled, y_train, cv=kfold))))\n",
    "\n",
    "logreg_scaled_coef = pd.DataFrame(data=logreg_scaled.coef_, columns=X.columns, index=['Scaled Logistic Regression Coefficients'])\n",
    "\n",
    "c2 = [logreg_coef, pen_logreg_coef, logreg_scaled_coef]\n",
    "coefs = pd.concat(c2)\n",
    "coefs.head()"
   ]
  },
  {
   "cell_type": "markdown",
   "id": "a96a26af",
   "metadata": {
    "id": "a96a26af"
   },
   "source": [
    "**scaled penolized regression**"
   ]
  },
  {
   "cell_type": "markdown",
   "id": "24694049",
   "metadata": {
    "id": "24694049"
   },
   "source": [
    "pen_logreg_scaled = LogisticRegression(penalty = 'l2').fit(X_train_scaled, y_train)\n",
    "\n",
    "print(\"PENALIZED LOGISTIC REGRESSION (SCALED DATA)\")\n",
    "\n",
    "print(\"Training set score: {:.2f}\".format(pen_logreg_scaled.score(X_train_scaled, y_train)))\n",
    "\n",
    "print(\"Test set score: {:.2f}\".format(pen_logreg_scaled.score(X_test_scaled, y_test)))\n",
    "\n",
    "print(\"Mean Cross Validation, KFold: {:.2f}\".format(np.mean(cross_val_score(pen_logreg_scaled, X_train, y_train, cv=kfold))))\n",
    "\n",
    "pen_logreg_scaled_coef = pd.DataFrame(data=pen_logreg_scaled.coef_, columns=X.columns, index=['Scaled Penalized Logistic Regression Coefficients'])\n",
    "\n",
    "c3 = [logreg_coef, pen_logreg_coef, logreg_scaled_coef, pen_logreg_scaled_coef]\n",
    "\n",
    "coefs = pd.concat(c3)\n",
    "\n",
    "coefs.head()"
   ]
  },
  {
   "cell_type": "code",
   "execution_count": 216,
   "id": "409c20cf",
   "metadata": {
    "colab": {
     "base_uri": "https://localhost:8080/",
     "height": 1000
    },
    "id": "409c20cf",
    "outputId": "bbce7935-9141-4757-f654-79c6163d82e4"
   },
   "outputs": [
    {
     "name": "stdout",
     "output_type": "stream",
     "text": [
      "PENALIZED LOGISTIC REGRESSION (SCALED DATA)\n",
      "Training set score: 0.99\n",
      "Test set score: 0.99\n",
      "Mean Cross Validation, KFold: 0.98\n"
     ]
    },
    {
     "name": "stderr",
     "output_type": "stream",
     "text": [
      "/Users/hujiayi/opt/anaconda3/lib/python3.9/site-packages/sklearn/linear_model/_logistic.py:763: ConvergenceWarning: lbfgs failed to converge (status=1):\n",
      "STOP: TOTAL NO. of ITERATIONS REACHED LIMIT.\n",
      "\n",
      "Increase the number of iterations (max_iter) or scale the data as shown in:\n",
      "    https://scikit-learn.org/stable/modules/preprocessing.html\n",
      "Please also refer to the documentation for alternative solver options:\n",
      "    https://scikit-learn.org/stable/modules/linear_model.html#logistic-regression\n",
      "  n_iter_i = _check_optimize_result(\n",
      "/Users/hujiayi/opt/anaconda3/lib/python3.9/site-packages/sklearn/linear_model/_logistic.py:763: ConvergenceWarning: lbfgs failed to converge (status=1):\n",
      "STOP: TOTAL NO. of ITERATIONS REACHED LIMIT.\n",
      "\n",
      "Increase the number of iterations (max_iter) or scale the data as shown in:\n",
      "    https://scikit-learn.org/stable/modules/preprocessing.html\n",
      "Please also refer to the documentation for alternative solver options:\n",
      "    https://scikit-learn.org/stable/modules/linear_model.html#logistic-regression\n",
      "  n_iter_i = _check_optimize_result(\n",
      "/Users/hujiayi/opt/anaconda3/lib/python3.9/site-packages/sklearn/linear_model/_logistic.py:763: ConvergenceWarning: lbfgs failed to converge (status=1):\n",
      "STOP: TOTAL NO. of ITERATIONS REACHED LIMIT.\n",
      "\n",
      "Increase the number of iterations (max_iter) or scale the data as shown in:\n",
      "    https://scikit-learn.org/stable/modules/preprocessing.html\n",
      "Please also refer to the documentation for alternative solver options:\n",
      "    https://scikit-learn.org/stable/modules/linear_model.html#logistic-regression\n",
      "  n_iter_i = _check_optimize_result(\n",
      "/Users/hujiayi/opt/anaconda3/lib/python3.9/site-packages/sklearn/linear_model/_logistic.py:763: ConvergenceWarning: lbfgs failed to converge (status=1):\n",
      "STOP: TOTAL NO. of ITERATIONS REACHED LIMIT.\n",
      "\n",
      "Increase the number of iterations (max_iter) or scale the data as shown in:\n",
      "    https://scikit-learn.org/stable/modules/preprocessing.html\n",
      "Please also refer to the documentation for alternative solver options:\n",
      "    https://scikit-learn.org/stable/modules/linear_model.html#logistic-regression\n",
      "  n_iter_i = _check_optimize_result(\n",
      "/Users/hujiayi/opt/anaconda3/lib/python3.9/site-packages/sklearn/linear_model/_logistic.py:763: ConvergenceWarning: lbfgs failed to converge (status=1):\n",
      "STOP: TOTAL NO. of ITERATIONS REACHED LIMIT.\n",
      "\n",
      "Increase the number of iterations (max_iter) or scale the data as shown in:\n",
      "    https://scikit-learn.org/stable/modules/preprocessing.html\n",
      "Please also refer to the documentation for alternative solver options:\n",
      "    https://scikit-learn.org/stable/modules/linear_model.html#logistic-regression\n",
      "  n_iter_i = _check_optimize_result(\n"
     ]
    },
    {
     "data": {
      "text/html": [
       "<div>\n",
       "<style scoped>\n",
       "    .dataframe tbody tr th:only-of-type {\n",
       "        vertical-align: middle;\n",
       "    }\n",
       "\n",
       "    .dataframe tbody tr th {\n",
       "        vertical-align: top;\n",
       "    }\n",
       "\n",
       "    .dataframe thead th {\n",
       "        text-align: right;\n",
       "    }\n",
       "</style>\n",
       "<table border=\"1\" class=\"dataframe\">\n",
       "  <thead>\n",
       "    <tr style=\"text-align: right;\">\n",
       "      <th></th>\n",
       "      <th>fixed acidity</th>\n",
       "      <th>volatile acidity</th>\n",
       "      <th>citric acid</th>\n",
       "      <th>residual sugar</th>\n",
       "      <th>chlorides</th>\n",
       "      <th>free sulfur dioxide</th>\n",
       "      <th>total sulfur dioxide</th>\n",
       "      <th>density</th>\n",
       "      <th>pH</th>\n",
       "      <th>sulphates</th>\n",
       "      <th>alcohol</th>\n",
       "      <th>quality</th>\n",
       "    </tr>\n",
       "  </thead>\n",
       "  <tbody>\n",
       "    <tr>\n",
       "      <th>Logistic Regression Coefficients</th>\n",
       "      <td>0.682544</td>\n",
       "      <td>8.414581</td>\n",
       "      <td>-1.859663</td>\n",
       "      <td>-0.159831</td>\n",
       "      <td>1.280977</td>\n",
       "      <td>0.055272</td>\n",
       "      <td>-0.065317</td>\n",
       "      <td>-1.415481</td>\n",
       "      <td>1.354532</td>\n",
       "      <td>6.600871</td>\n",
       "      <td>-0.792980</td>\n",
       "      <td>-0.083268</td>\n",
       "    </tr>\n",
       "    <tr>\n",
       "      <th>Penalized Logistic Regression Coefficients</th>\n",
       "      <td>0.682544</td>\n",
       "      <td>8.414581</td>\n",
       "      <td>-1.859663</td>\n",
       "      <td>-0.159831</td>\n",
       "      <td>1.280977</td>\n",
       "      <td>0.055272</td>\n",
       "      <td>-0.065317</td>\n",
       "      <td>-1.415481</td>\n",
       "      <td>1.354532</td>\n",
       "      <td>6.600871</td>\n",
       "      <td>-0.792980</td>\n",
       "      <td>-0.083268</td>\n",
       "    </tr>\n",
       "    <tr>\n",
       "      <th>Scaled Logistic Regression Coefficients</th>\n",
       "      <td>0.355438</td>\n",
       "      <td>1.280869</td>\n",
       "      <td>-0.359597</td>\n",
       "      <td>-3.521214</td>\n",
       "      <td>0.793006</td>\n",
       "      <td>0.928958</td>\n",
       "      <td>-2.918439</td>\n",
       "      <td>3.497433</td>\n",
       "      <td>0.320909</td>\n",
       "      <td>0.635613</td>\n",
       "      <td>1.204437</td>\n",
       "      <td>0.162930</td>\n",
       "    </tr>\n",
       "    <tr>\n",
       "      <th>Scaled Penalized Logistic Regression Coefficients</th>\n",
       "      <td>0.355438</td>\n",
       "      <td>1.280869</td>\n",
       "      <td>-0.359597</td>\n",
       "      <td>-3.521214</td>\n",
       "      <td>0.793006</td>\n",
       "      <td>0.928958</td>\n",
       "      <td>-2.918439</td>\n",
       "      <td>3.497433</td>\n",
       "      <td>0.320909</td>\n",
       "      <td>0.635613</td>\n",
       "      <td>1.204437</td>\n",
       "      <td>0.162930</td>\n",
       "    </tr>\n",
       "  </tbody>\n",
       "</table>\n",
       "</div>"
      ],
      "text/plain": [
       "                                                   fixed acidity  \\\n",
       "Logistic Regression Coefficients                        0.682544   \n",
       "Penalized Logistic Regression Coefficients              0.682544   \n",
       "Scaled Logistic Regression Coefficients                 0.355438   \n",
       "Scaled Penalized Logistic Regression Coefficients       0.355438   \n",
       "\n",
       "                                                   volatile acidity  \\\n",
       "Logistic Regression Coefficients                           8.414581   \n",
       "Penalized Logistic Regression Coefficients                 8.414581   \n",
       "Scaled Logistic Regression Coefficients                    1.280869   \n",
       "Scaled Penalized Logistic Regression Coefficients          1.280869   \n",
       "\n",
       "                                                   citric acid  \\\n",
       "Logistic Regression Coefficients                     -1.859663   \n",
       "Penalized Logistic Regression Coefficients           -1.859663   \n",
       "Scaled Logistic Regression Coefficients              -0.359597   \n",
       "Scaled Penalized Logistic Regression Coefficients    -0.359597   \n",
       "\n",
       "                                                   residual sugar  chlorides  \\\n",
       "Logistic Regression Coefficients                        -0.159831   1.280977   \n",
       "Penalized Logistic Regression Coefficients              -0.159831   1.280977   \n",
       "Scaled Logistic Regression Coefficients                 -3.521214   0.793006   \n",
       "Scaled Penalized Logistic Regression Coefficients       -3.521214   0.793006   \n",
       "\n",
       "                                                   free sulfur dioxide  \\\n",
       "Logistic Regression Coefficients                              0.055272   \n",
       "Penalized Logistic Regression Coefficients                    0.055272   \n",
       "Scaled Logistic Regression Coefficients                       0.928958   \n",
       "Scaled Penalized Logistic Regression Coefficients             0.928958   \n",
       "\n",
       "                                                   total sulfur dioxide  \\\n",
       "Logistic Regression Coefficients                              -0.065317   \n",
       "Penalized Logistic Regression Coefficients                    -0.065317   \n",
       "Scaled Logistic Regression Coefficients                       -2.918439   \n",
       "Scaled Penalized Logistic Regression Coefficients             -2.918439   \n",
       "\n",
       "                                                    density        pH  \\\n",
       "Logistic Regression Coefficients                  -1.415481  1.354532   \n",
       "Penalized Logistic Regression Coefficients        -1.415481  1.354532   \n",
       "Scaled Logistic Regression Coefficients            3.497433  0.320909   \n",
       "Scaled Penalized Logistic Regression Coefficients  3.497433  0.320909   \n",
       "\n",
       "                                                   sulphates   alcohol  \\\n",
       "Logistic Regression Coefficients                    6.600871 -0.792980   \n",
       "Penalized Logistic Regression Coefficients          6.600871 -0.792980   \n",
       "Scaled Logistic Regression Coefficients             0.635613  1.204437   \n",
       "Scaled Penalized Logistic Regression Coefficients   0.635613  1.204437   \n",
       "\n",
       "                                                    quality  \n",
       "Logistic Regression Coefficients                  -0.083268  \n",
       "Penalized Logistic Regression Coefficients        -0.083268  \n",
       "Scaled Logistic Regression Coefficients            0.162930  \n",
       "Scaled Penalized Logistic Regression Coefficients  0.162930  "
      ]
     },
     "execution_count": 216,
     "metadata": {},
     "output_type": "execute_result"
    }
   ],
   "source": [
    "pen_logreg_scaled = LogisticRegression(penalty = 'l2').fit(X_train_scaled, y_train)\n",
    "\n",
    "print(\"PENALIZED LOGISTIC REGRESSION (SCALED DATA)\")\n",
    "print(\"Training set score: {:.2f}\".format(pen_logreg_scaled.score(X_train_scaled, y_train)))\n",
    "print(\"Test set score: {:.2f}\".format(pen_logreg_scaled.score(X_test_scaled, y_test)))\n",
    "print(\"Mean Cross Validation, KFold: {:.2f}\".format(np.mean(cross_val_score(pen_logreg_scaled, X_train, y_train, cv=kfold))))\n",
    "\n",
    "pen_logreg_scaled_coef = pd.DataFrame(data=pen_logreg_scaled.coef_, columns=X.columns, index=['Scaled Penalized Logistic Regression Coefficients'])\n",
    "\n",
    "c3 = [logreg_coef, pen_logreg_coef, logreg_scaled_coef, pen_logreg_scaled_coef]\n",
    "coefs = pd.concat(c3)\n",
    "coefs.head()"
   ]
  },
  {
   "cell_type": "markdown",
   "id": "d2cbed3e",
   "metadata": {
    "id": "d2cbed3e"
   },
   "source": [
    "**Scaled KNN**"
   ]
  },
  {
   "cell_type": "markdown",
   "id": "185d4a34",
   "metadata": {
    "id": "185d4a34"
   },
   "source": [
    "knn_scaled = KNeighborsRegressor().fit(X_train_scaled, y_train)\n",
    "\n",
    "print(\"KNN CLASSIFER (SCALED DATA)\")\n",
    "\n",
    "print(\"Training set score: {:.2f}\".format(knn_scaled.score(X_train_scaled, y_train)))\n",
    "\n",
    "print(\"Test set score: {:.2f}\".format(knn_scaled.score(X_test_scaled, y_test)))\n",
    "\n",
    "print(\"Mean Cross Validation, KFold: {:.2f}\".format(np.mean(cross_val_score(knn_scaled, X_train_scaled, y_train, cv=kfold))))"
   ]
  },
  {
   "cell_type": "code",
   "execution_count": 217,
   "id": "7371a00d",
   "metadata": {
    "colab": {
     "base_uri": "https://localhost:8080/"
    },
    "id": "7371a00d",
    "outputId": "bb234fbc-30c9-426b-ab46-f5908bfaae76"
   },
   "outputs": [
    {
     "name": "stdout",
     "output_type": "stream",
     "text": [
      "KNN CLASSIFER (SCALED DATA)\n",
      "Training set score: 0.98\n",
      "Test set score: 0.96\n",
      "Mean Cross Validation, KFold: 0.97\n"
     ]
    }
   ],
   "source": [
    "knn_scaled = KNeighborsRegressor().fit(X_train_scaled, y_train)\n",
    "\n",
    "print(\"KNN CLASSIFER (SCALED DATA)\")\n",
    "print(\"Training set score: {:.2f}\".format(knn_scaled.score(X_train_scaled, y_train)))\n",
    "print(\"Test set score: {:.2f}\".format(knn_scaled.score(X_test_scaled, y_test)))\n",
    "\n",
    "# Stratified Kfold Cross Validation\n",
    "print(\"Mean Cross Validation, KFold: {:.2f}\".format(np.mean(cross_val_score(knn_scaled, X_train_scaled, y_train, cv=kfold))))"
   ]
  },
  {
   "cell_type": "markdown",
   "id": "2780b95c",
   "metadata": {
    "id": "2780b95c"
   },
   "source": [
    "**Do the results improve?**"
   ]
  },
  {
   "cell_type": "markdown",
   "id": "d3c02de2",
   "metadata": {
    "id": "d3c02de2"
   },
   "source": [
    "Yes, all the results improve."
   ]
  },
  {
   "cell_type": "markdown",
   "id": "22969873",
   "metadata": {
    "id": "22969873"
   },
   "source": [
    "**2.3 Tune the parameters where possible using GridSearchCV.**"
   ]
  },
  {
   "cell_type": "markdown",
   "id": "00b2cf90",
   "metadata": {
    "id": "00b2cf90"
   },
   "source": [
    "**logistic regrssion with GridSearchCV**"
   ]
  },
  {
   "cell_type": "markdown",
   "id": "64093db1",
   "metadata": {
    "id": "64093db1"
   },
   "source": [
    "logreg_pipe = make_pipeline(StandardScaler(), LogisticRegression())\n",
    "\n",
    "logreg_param_grid = {'logisticregression__C': np.linspace(1, 100, 100)}\n",
    "\n",
    "logreg_grid = GridSearchCV(logreg_pipe, logreg_param_grid).fit(X_train_scaled, y_train)\n",
    "\n",
    "print(\"LOGISTIC REGRESSION (SCALED DATA)\")\n",
    "\n",
    "print(\"Test set Score: {:.2f}\".format(logreg_grid.score(X_test_scaled, y_test)))\n",
    "\n",
    "print(\"Best Parameter: {}\".format(logreg_grid.best_params_))"
   ]
  },
  {
   "cell_type": "code",
   "execution_count": 218,
   "id": "9a051104",
   "metadata": {
    "colab": {
     "base_uri": "https://localhost:8080/"
    },
    "id": "9a051104",
    "outputId": "aa516bca-dc94-412d-9a96-75aae9af2953"
   },
   "outputs": [
    {
     "name": "stdout",
     "output_type": "stream",
     "text": [
      "LOGISTIC REGRESSION (SCALED DATA)\n",
      "Test set Score: 0.99\n",
      "Best Parameter: {'logisticregression__C': 9.0}\n"
     ]
    }
   ],
   "source": [
    "logreg_pipe = make_pipeline(StandardScaler(), LogisticRegression())\n",
    "\n",
    "logreg_param_grid = {'logisticregression__C': np.linspace(1, 100, 100)}\n",
    "logreg_grid = GridSearchCV(logreg_pipe, logreg_param_grid).fit(X_train_scaled, y_train)\n",
    "\n",
    "print(\"LOGISTIC REGRESSION (SCALED DATA)\")\n",
    "print(\"Test set Score: {:.2f}\".format(logreg_grid.score(X_test_scaled, y_test)))\n",
    "print(\"Best Parameter: {}\".format(logreg_grid.best_params_))"
   ]
  },
  {
   "cell_type": "markdown",
   "id": "55e5296e",
   "metadata": {
    "id": "55e5296e"
   },
   "source": [
    "**Penalized logistic regression with GridSearchCV**"
   ]
  },
  {
   "cell_type": "markdown",
   "id": "83610a8e",
   "metadata": {
    "id": "83610a8e"
   },
   "source": [
    "pen_logreg_pipe = make_pipeline(StandardScaler(), LogisticRegression(penalty='l2'))\n",
    "\n",
    "pen_logreg_param_grid = {'logisticregression__C': np.linspace(1, 100, 100)}\n",
    "\n",
    "pen_logreg_grid = GridSearchCV(pen_logreg_pipe, pen_logreg_param_grid).fit(X_train_scaled, y_train)\n",
    "\n",
    "print(\"PENLIZED LOGISTIC REGRESSION (SCALED DATA)\")\n",
    "\n",
    "print(\"Test set Score: {:.2f}\".format(pen_logreg_grid.score(X_test_scaled, y_test)))\n",
    "\n",
    "print(\"Best Parameter: {}\".format(pen_logreg_grid.best_params_))"
   ]
  },
  {
   "cell_type": "code",
   "execution_count": 219,
   "id": "792976ee",
   "metadata": {
    "colab": {
     "base_uri": "https://localhost:8080/"
    },
    "id": "792976ee",
    "outputId": "884efb78-a20c-4d0e-fce5-df849dc14607"
   },
   "outputs": [
    {
     "name": "stdout",
     "output_type": "stream",
     "text": [
      "PENLIZED LOGISTIC REGRESSION (SCALED DATA)\n",
      "Test set Score: 0.99\n",
      "Best Parameter: {'logisticregression__C': 9.0}\n"
     ]
    }
   ],
   "source": [
    "pen_logreg_pipe = make_pipeline(StandardScaler(), LogisticRegression(penalty='l2'))\n",
    "pen_logreg_param_grid = {'logisticregression__C': np.linspace(1, 100, 100)}\n",
    "pen_logreg_grid = GridSearchCV(pen_logreg_pipe, pen_logreg_param_grid).fit(X_train_scaled, y_train)\n",
    "\n",
    "print(\"PENLIZED LOGISTIC REGRESSION (SCALED DATA)\")\n",
    "print(\"Test set Score: {:.2f}\".format(pen_logreg_grid.score(X_test_scaled, y_test)))\n",
    "print(\"Best Parameter: {}\".format(pen_logreg_grid.best_params_))"
   ]
  },
  {
   "cell_type": "markdown",
   "id": "7940dd98",
   "metadata": {
    "id": "7940dd98"
   },
   "source": [
    "**Do the results improve?**"
   ]
  },
  {
   "cell_type": "markdown",
   "id": "a11a7791",
   "metadata": {
    "id": "b5f40f3a"
   },
   "source": [
    "KNN only"
   ]
  },
  {
   "cell_type": "markdown",
   "id": "dbd6d97a",
   "metadata": {
    "id": "dbd6d97a"
   },
   "source": [
    "**2.4 Change the cross-validation strategy in GridSearchCV from ‘stratified k-fold’ to ‘kfold’ with shuffling. Do the parameters for models that can be tuned change? Do they change if you change the random seed of the shuffling? Or if you change the random state of the split into training and test data?**"
   ]
  },
  {
   "cell_type": "markdown",
   "id": "a5ca0144",
   "metadata": {
    "id": "a5ca0144"
   },
   "source": [
    "**GridsearchCV of Logistic Regression with Repeated KFold (rkf)**"
   ]
  },
  {
   "cell_type": "markdown",
   "id": "e3e8f1f6",
   "metadata": {
    "id": "e3e8f1f6"
   },
   "source": [
    "rkf = RepeatedKFold(n_splits=5, n_repeats=10, random_state=1) \n",
    "\n",
    "rkf_1 = RepeatedKFold(n_splits=5, n_repeats=10, random_state=1)\n",
    "\n",
    "logreg_grid_rfk = GridSearchCV(logreg_pipe, logreg_param_grid, cv=rkf).fit(X_train_scaled, y_train)\n",
    "\n",
    "print(\"LOGISTIC REGRESSION (SCALED DATA)\")\n",
    "\n",
    "print(\"Test set Score: {:.2f}\".format(logreg_grid_rfk.score(X_test_scaled, y_test)))\n",
    "\n",
    "print(\"Best Parameter: {}\".format(logreg_grid_rfk.best_params_))"
   ]
  },
  {
   "cell_type": "code",
   "execution_count": null,
   "id": "02b04433",
   "metadata": {
    "id": "02b04433"
   },
   "outputs": [],
   "source": [
    "rkf = RepeatedKFold(n_splits=5, n_repeats=10, random_state=1)\n",
    "rkf_1 = RepeatedKFold(n_splits=5, n_repeats=10, random_state=1)"
   ]
  },
  {
   "cell_type": "code",
   "execution_count": null,
   "id": "4151cdf3",
   "metadata": {
    "colab": {
     "base_uri": "https://localhost:8080/"
    },
    "id": "4151cdf3",
    "outputId": "461f3e6e-b6c4-4dac-885b-447671bfe101"
   },
   "outputs": [],
   "source": [
    "logreg_grid_rfk = GridSearchCV(logreg_pipe, logreg_param_grid, cv=rkf).fit(X_train_scaled, y_train)\n",
    "\n",
    "print(\"LOGISTIC REGRESSION (SCALED DATA)\")\n",
    "print(\"Test set Score: {:.2f}\".format(logreg_grid_rfk.score(X_test_scaled, y_test)))\n",
    "print(\"Best Parameter: {}\".format(logreg_grid_rfk.best_params_))"
   ]
  },
  {
   "cell_type": "markdown",
   "id": "cfa15a68",
   "metadata": {
    "id": "cfa15a68"
   },
   "source": [
    "**GridsearchCV of Penalized Logistic Regression with Repeated KFold (rkf)**"
   ]
  },
  {
   "cell_type": "markdown",
   "id": "06f05969",
   "metadata": {
    "id": "06f05969"
   },
   "source": [
    "pen_logreg_grid_rfk = GridSearchCV(pen_logreg_pipe, pen_logreg_param_grid, cv=rkf).fit(X_train_scaled, y_train)\n",
    "\n",
    "print(\"PENLIZED LOGISTIC REGRESSION (SCALED DATA)\")\n",
    "\n",
    "print(\"Test set Score: {:.2f}\".format(pen_logreg_grid_rfk.score(X_test_scaled, y_test)))\n",
    "\n",
    "print(\"Best Parameter: {}\".format(pen_logreg_grid_rfk.best_params_))"
   ]
  },
  {
   "cell_type": "code",
   "execution_count": null,
   "id": "f1b01875",
   "metadata": {
    "colab": {
     "base_uri": "https://localhost:8080/"
    },
    "id": "f1b01875",
    "outputId": "6ce2898f-c80e-4540-d1ff-772f22497cf1"
   },
   "outputs": [],
   "source": [
    "pen_logreg_grid_rfk = GridSearchCV(pen_logreg_pipe, pen_logreg_param_grid, cv=rkf).fit(X_train_scaled, y_train)\n",
    "\n",
    "print(\"PENLIZED LOGISTIC REGRESSION (SCALED DATA)\")\n",
    "print(\"Test set Score: {:.2f}\".format(pen_logreg_grid_rfk.score(X_test_scaled, y_test)))\n",
    "print(\"Best Parameter: {}\".format(pen_logreg_grid_rfk.best_params_))"
   ]
  },
  {
   "cell_type": "markdown",
   "id": "d712ecc0",
   "metadata": {
    "id": "d712ecc0"
   },
   "source": [
    "**GridsearchCV of KNN Classifier with Repeated KFold (rkf)**"
   ]
  },
  {
   "cell_type": "code",
   "execution_count": null,
   "id": "619bbe6d",
   "metadata": {
    "colab": {
     "base_uri": "https://localhost:8080/"
    },
    "id": "619bbe6d",
    "outputId": "7c84b690-ee36-4b94-e81d-518d25ca687c"
   },
   "outputs": [],
   "source": [
    "knn_grid_rfk = GridSearchCV(knn_pipe, knn_param_grid, cv=rkf).fit(X_train_scaled, y_train)\n",
    "\n",
    "print(\"KNN for REGRESSION (SCALED DATA)\")\n",
    "print(\"Test set Score: {:.2f}\".format(knn_grid_rfk.score(X_test_scaled, y_test)))\n",
    "print(\"Best Parameter: {}\".format(knn_grid_rfk.best_params_))"
   ]
  },
  {
   "cell_type": "markdown",
   "id": "cfcbfc6d",
   "metadata": {
    "id": "cfcbfc6d"
   },
   "source": [
    "**Do the parameters for models that can be tuned change?**"
   ]
  },
  {
   "cell_type": "markdown",
   "id": "acf32c88",
   "metadata": {
    "id": "acf32c88"
   },
   "source": [
    "Yes, they do."
   ]
  },
  {
   "cell_type": "markdown",
   "id": "6c39d9b9",
   "metadata": {
    "id": "6c39d9b9"
   },
   "source": [
    "**GridsearchCV of Logistic Regression with Repeated KFold (rkf) and new random seed**\n"
   ]
  },
  {
   "cell_type": "markdown",
   "id": "554303dd",
   "metadata": {
    "id": "554303dd"
   },
   "source": [
    "logreg_grid_rfk_1 = GridSearchCV(logreg_pipe, logreg_param_grid, cv=rkf_1).fit(X_train_scaled, y_train)\n",
    "\n",
    "print(\"LOGISTIC REGRESSION (SCALED DATA)\")\n",
    "\n",
    "print(\"Test set Score: {:.2f}\".format(logreg_grid_rfk_1.score(X_test_scaled, y_test)))\n",
    "\n",
    "print(\"Best Parameter: {}\".format(logreg_grid_rfk_1.best_params_))"
   ]
  },
  {
   "cell_type": "code",
   "execution_count": null,
   "id": "78278bdf",
   "metadata": {
    "colab": {
     "base_uri": "https://localhost:8080/"
    },
    "id": "78278bdf",
    "outputId": "ebd1db5f-5ed1-4027-fda1-76615f3c1623"
   },
   "outputs": [],
   "source": [
    "logreg_grid_rfk_1 = GridSearchCV(logreg_pipe, logreg_param_grid, cv=rkf_1).fit(X_train_scaled, y_train)\n",
    "\n",
    "print(\"LOGISTIC REGRESSION (SCALED DATA)\")\n",
    "print(\"Test set Score: {:.2f}\".format(logreg_grid_rfk_1.score(X_test_scaled, y_test)))\n",
    "print(\"Best Parameter: {}\".format(logreg_grid_rfk_1.best_params_))"
   ]
  },
  {
   "cell_type": "markdown",
   "id": "f4c16545",
   "metadata": {
    "id": "f4c16545"
   },
   "source": [
    "**GridsearchCV of Penalized Logistic Regression with Repeated KFold (rkf) and new random seed**"
   ]
  },
  {
   "cell_type": "markdown",
   "id": "a827e85c",
   "metadata": {
    "id": "a827e85c"
   },
   "source": [
    "pen_logreg_grid_rfk_1 = GridSearchCV(pen_logreg_pipe, pen_logreg_param_grid, cv=rkf_1).fit(X_train_scaled, y_train)\n",
    "\n",
    "print(\"PENLIZED LOGISTIC REGRESSION (SCALED DATA)\")\n",
    "\n",
    "print(\"Test set Score: {:.2f}\".format(pen_logreg_grid_rfk_1.score(X_test_scaled, y_test)))\n",
    "\n",
    "print(\"Best Parameter: {}\".format(pen_logreg_grid_rfk_1.best_params_))"
   ]
  },
  {
   "cell_type": "code",
   "execution_count": null,
   "id": "35cf9108",
   "metadata": {
    "colab": {
     "base_uri": "https://localhost:8080/"
    },
    "id": "35cf9108",
    "outputId": "369733a6-5d17-4e79-cac8-706be56714c4"
   },
   "outputs": [],
   "source": [
    "pen_logreg_grid_rfk_1 = GridSearchCV(pen_logreg_pipe, pen_logreg_param_grid, cv=rkf_1).fit(X_train_scaled, y_train)\n",
    "\n",
    "print(\"PENLIZED LOGISTIC REGRESSION (SCALED DATA)\")\n",
    "print(\"Test set Score: {:.2f}\".format(pen_logreg_grid_rfk_1.score(X_test_scaled, y_test)))\n",
    "print(\"Best Parameter: {}\".format(pen_logreg_grid_rfk_1.best_params_))"
   ]
  },
  {
   "cell_type": "markdown",
   "id": "9c4ddfef",
   "metadata": {
    "id": "9c4ddfef"
   },
   "source": [
    "**GridsearchCV of KNN Classifier with Repeated KFold (rkf) and new random seed**"
   ]
  },
  {
   "cell_type": "markdown",
   "id": "1e597248",
   "metadata": {
    "id": "1e597248"
   },
   "source": [
    "knn_grid_rfk_1 = GridSearchCV(knn_pipe, knn_param_grid, cv=rkf_1).fit(X_train_scaled, y_train)\n",
    "\n",
    "print(\"KNN for REGRESSION (SCALED DATA)\")\n",
    "\n",
    "print(\"Test set Score: {:.2f}\".format(knn_grid_rfk_1.score(X_test_scaled, y_test)))\n",
    "\n",
    "print(\"Best Parameter: {}\".format(knn_grid_rfk_1.best_params_))\n",
    "\n",
    "print(\"Parameters for LOGISTIC REGRESSION\")\n",
    "\n",
    "print(\"     KFold w/out Shuffling: {}\".format(logreg_grid.best_params_))\n",
    "\n",
    "print(\"            Repeated KFold: {}\".format(logreg_grid_rfk.best_params_))\n",
    "\n",
    "print(\"Repeated KFold w/ new seed: {}\".format(logreg_grid_rfk_1.best_params_))\n",
    "print(\"\")\n",
    "print(\"Parameters for PENALIZED LOGISTIC REGRESSION\")\n",
    "\n",
    "print(\"     KFold w/out Shuffling: {}\".format(pen_logreg_grid.best_params_))\n",
    "\n",
    "print(\"            Repeated KFold: {}\".format(pen_logreg_grid_rfk.best_params_))\n",
    "\n",
    "print(\"Repeated KFold w/ new seed: {}\".format(pen_logreg_grid_rfk_1.best_params_))\n",
    "\n",
    "print(\"\")\n",
    "print(\"Parameters for KNN CLASSIFIER\")\n",
    "\n",
    "print(\"     KFold w/out Shuffling: {}\".format(knn_grid.best_params_))\n",
    "\n",
    "print(\"            Repeated KFold: {}\".format(knn_grid_rfk.best_params_))\n",
    "\n",
    "print(\"Repeated KFold w/ new seed: {}\".format(knn_grid_rfk_1.best_params_))"
   ]
  },
  {
   "cell_type": "code",
   "execution_count": null,
   "id": "6d9d6d83",
   "metadata": {
    "colab": {
     "base_uri": "https://localhost:8080/"
    },
    "id": "6d9d6d83",
    "outputId": "684876df-b523-442a-84a5-921fd0b2a47e"
   },
   "outputs": [],
   "source": [
    "knn_grid_rfk_1 = GridSearchCV(knn_pipe, knn_param_grid, cv=rkf_1).fit(X_train_scaled, y_train)\n",
    "\n",
    "print(\"KNN for REGRESSION (SCALED DATA)\")\n",
    "print(\"Test set Score: {:.2f}\".format(knn_grid_rfk_1.score(X_test_scaled, y_test)))\n",
    "print(\"Best Parameter: {}\".format(knn_grid_rfk_1.best_params_))"
   ]
  },
  {
   "cell_type": "code",
   "execution_count": null,
   "id": "4c55f853",
   "metadata": {
    "colab": {
     "base_uri": "https://localhost:8080/"
    },
    "id": "4c55f853",
    "outputId": "4dad0622-c901-4a7e-a952-b4845e72c595"
   },
   "outputs": [],
   "source": [
    "print(\"Parameters for LOGISTIC REGRESSION\")\n",
    "print(\"     KFold w/out Shuffling: {}\".format(logreg_grid.best_params_))\n",
    "print(\"            Repeated KFold: {}\".format(logreg_grid_rfk.best_params_))\n",
    "print(\"Repeated KFold w/ new seed: {}\".format(logreg_grid_rfk_1.best_params_))\n",
    "print(\"\")\n",
    "print(\"Parameters for PENALIZED LOGISTIC REGRESSION\")\n",
    "print(\"     KFold w/out Shuffling: {}\".format(pen_logreg_grid.best_params_))\n",
    "print(\"            Repeated KFold: {}\".format(pen_logreg_grid_rfk.best_params_))\n",
    "print(\"Repeated KFold w/ new seed: {}\".format(pen_logreg_grid_rfk_1.best_params_))\n",
    "print(\"\")\n",
    "print(\"Parameters for KNN CLASSIFIER\")\n",
    "print(\"     KFold w/out Shuffling: {}\".format(knn_grid.best_params_))\n",
    "print(\"            Repeated KFold: {}\".format(knn_grid_rfk.best_params_))\n",
    "print(\"Repeated KFold w/ new seed: {}\".format(knn_grid_rfk_1.best_params_))"
   ]
  },
  {
   "cell_type": "markdown",
   "id": "62ef560c",
   "metadata": {
    "id": "62ef560c"
   },
   "source": [
    "Yes"
   ]
  },
  {
   "cell_type": "markdown",
   "id": "71763f3e",
   "metadata": {
    "id": "71763f3e"
   },
   "source": [
    "**2.5 Lastly, compare the coefficients for Logistic Regression and Penalized Logistic Regression and discuss which final model you would choose to predict new data.**"
   ]
  },
  {
   "cell_type": "markdown",
   "id": "fe0f5509",
   "metadata": {
    "id": "fe0f5509"
   },
   "source": [
    "coefs = pd.concat(c3)\n",
    "\n",
    "coefs.head()"
   ]
  },
  {
   "cell_type": "code",
   "execution_count": null,
   "id": "5b2cc97b",
   "metadata": {
    "colab": {
     "base_uri": "https://localhost:8080/",
     "height": 482
    },
    "id": "5b2cc97b",
    "outputId": "1ef46067-5399-4911-d91c-523fc05424ca"
   },
   "outputs": [],
   "source": [
    "coefs = pd.concat(c3)\n",
    "coefs.head()"
   ]
  },
  {
   "cell_type": "markdown",
   "id": "08826f30",
   "metadata": {
    "id": "08826f30"
   },
   "source": [
    "As yo ucan see from the tables above, I would choose Penalized Logistic Regression with scaled data."
   ]
  },
  {
   "cell_type": "code",
   "execution_count": null,
   "id": "b9d3d823",
   "metadata": {
    "id": "b9d3d823"
   },
   "outputs": [],
   "source": []
  },
  {
   "cell_type": "code",
   "execution_count": null,
   "id": "25fdd4ce",
   "metadata": {},
   "outputs": [],
   "source": []
  }
 ],
 "metadata": {
  "colab": {
   "name": "ML HW2 (7).ipynb",
   "provenance": []
  },
  "kernelspec": {
   "display_name": "Python 3 (ipykernel)",
   "language": "python",
   "name": "python3"
  },
  "language_info": {
   "codemirror_mode": {
    "name": "ipython",
    "version": 3
   },
   "file_extension": ".py",
   "mimetype": "text/x-python",
   "name": "python",
   "nbconvert_exporter": "python",
   "pygments_lexer": "ipython3",
   "version": "3.9.7"
  }
 },
 "nbformat": 4,
 "nbformat_minor": 5
}
